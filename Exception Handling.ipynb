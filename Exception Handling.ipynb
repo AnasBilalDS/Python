{
 "cells": [
  {
   "cell_type": "markdown",
   "id": "7668e4e9-408c-42e3-b2b3-fed983279d7f",
   "metadata": {},
   "source": [
    "# Exception Handling = Exception handling is basically when some errors come in how can we handle it #"
   ]
  },
  {
   "cell_type": "code",
   "execution_count": null,
   "id": "1d5c8e88-80b6-45b6-8f6d-a12fdfe0f4cb",
   "metadata": {},
   "outputs": [],
   "source": [
    "# There are 4 building blocks for exception handling #\n",
    "try:\n",
    "except:\n",
    "else:\n",
    "finally:"
   ]
  },
  {
   "cell_type": "code",
   "execution_count": 1,
   "id": "044367d7-16ec-49c1-94c3-79f0bfed17db",
   "metadata": {},
   "outputs": [
    {
     "name": "stdin",
     "output_type": "stream",
     "text": [
      "Enter num1:  10\n",
      "Enter num2:  2\n"
     ]
    },
    {
     "name": "stdout",
     "output_type": "stream",
     "text": [
      "There is an error\n",
      "The code ran\n"
     ]
    }
   ],
   "source": [
    "try:\n",
    "    num1=input(\"Enter num1: \")\n",
    "    num2=input(\"Enter num2: \")\n",
    "    result=num1/num2\n",
    "except:\n",
    "    print('There is an error')\n",
    "else:\n",
    "    print('The result is:', result)\n",
    "finally:\n",
    "    print('The code ran')"
   ]
  },
  {
   "cell_type": "code",
   "execution_count": 5,
   "id": "acf57b92-0ef4-45ff-97be-e09d63e9cd47",
   "metadata": {},
   "outputs": [
    {
     "name": "stdin",
     "output_type": "stream",
     "text": [
      "Enter num1:  10\n",
      "Enter num2:  2\n"
     ]
    },
    {
     "name": "stdout",
     "output_type": "stream",
     "text": [
      "The result is: 5.0\n",
      "The code ran\n"
     ]
    }
   ],
   "source": [
    "try:\n",
    "    num1=int(input(\"Enter num1: \"))\n",
    "    num2=int(input(\"Enter num2: \"))\n",
    "    result=num1/num2\n",
    "except:\n",
    "    print('There is an error')\n",
    "else:\n",
    "    print('The result is:', result)\n",
    "finally:\n",
    "    print('The code ran')"
   ]
  },
  {
   "cell_type": "code",
   "execution_count": 7,
   "id": "7cc2c333-9be2-41aa-8f70-a77d7eff6736",
   "metadata": {},
   "outputs": [
    {
     "name": "stdout",
     "output_type": "stream",
     "text": [
      "statement1\n",
      "statement10\n",
      "statement11\n",
      "statement12\n"
     ]
    }
   ],
   "source": [
    "try:\n",
    "    print('statement1')\n",
    "    print(10/0) # This will not run as dattype not define#\n",
    "    print('statement3')\n",
    "    try: \n",
    "        print('statement4')\n",
    "        print('statement5')\n",
    "        print('statement6')\n",
    "    except:\n",
    "        print('statement7')\n",
    "    finally:\n",
    "        print('statement8')\n",
    "    print('statement9')\n",
    "    print()\n",
    "except:\n",
    "    print('statement10')\n",
    "finally:\n",
    "    print('statement11')\n",
    "print('statement12')\n",
    "        "
   ]
  },
  {
   "cell_type": "code",
   "execution_count": 8,
   "id": "eded8a96-58a5-4c94-a11d-f90466609f57",
   "metadata": {},
   "outputs": [
    {
     "name": "stdout",
     "output_type": "stream",
     "text": [
      "statement1\n",
      "statement2\n",
      "statement3\n",
      "statement4\n",
      "statement7\n",
      "statement8\n",
      "statement9\n",
      "\n",
      "statement11\n",
      "statement12\n"
     ]
    }
   ],
   "source": [
    "try:\n",
    "    print('statement1')\n",
    "    print('statement2') \n",
    "    print('statement3')\n",
    "    try: \n",
    "        print('statement4')\n",
    "        print(10/0)\n",
    "        print('statement6')\n",
    "    except:\n",
    "        print('statement7')\n",
    "    finally:\n",
    "        print('statement8')\n",
    "    print('statement9')\n",
    "    print()\n",
    "except:\n",
    "    print('statement10')\n",
    "finally:\n",
    "    print('statement11')\n",
    "print('statement12')"
   ]
  },
  {
   "cell_type": "code",
   "execution_count": 11,
   "id": "1aaec5c3-4cda-4a02-802a-0c5732f57435",
   "metadata": {},
   "outputs": [
    {
     "name": "stdin",
     "output_type": "stream",
     "text": [
      "Enter the num1 20\n",
      "Enter the num2 4\n"
     ]
    },
    {
     "name": "stdout",
     "output_type": "stream",
     "text": [
      "The result is: 5.0\n",
      "The code ran\n"
     ]
    }
   ],
   "source": [
    "try:\n",
    "    num1=int(input('Enter the num1'))\n",
    "    num2=int(input('Enter the num2'))\n",
    "    result=num1/num2\n",
    "except:\n",
    "    print('There is an error')\n",
    "else:\n",
    "    print('The result is:',result)\n",
    "finally:\n",
    "    print('The code ran')\n",
    "    "
   ]
  },
  {
   "cell_type": "code",
   "execution_count": 12,
   "id": "408403ff-a494-4b87-8e00-ad39c9b814b2",
   "metadata": {},
   "outputs": [
    {
     "name": "stdin",
     "output_type": "stream",
     "text": [
      "Enter the num1 10\n",
      "Enter the num2 0\n"
     ]
    },
    {
     "name": "stdout",
     "output_type": "stream",
     "text": [
      "<class 'ZeroDivisionError'>\n",
      "The code ran\n"
     ]
    }
   ],
   "source": [
    "try:\n",
    "    num1=int(input('Enter the num1'))\n",
    "    num2=int(input('Enter the num2'))\n",
    "    result=num1/num2\n",
    "except Exception as e:\n",
    "    print(type(e))\n",
    "except Exception as e: # Exception is basically a class for letting know about error type#\n",
    "    print(type(e))\n",
    "else:\n",
    "    print('The result is:',result)\n",
    "finally:\n",
    "    print('The code ran')"
   ]
  },
  {
   "cell_type": "code",
   "execution_count": 14,
   "id": "965e01ad-ed2d-4bcf-b92b-73cba6ed6df7",
   "metadata": {},
   "outputs": [
    {
     "name": "stdin",
     "output_type": "stream",
     "text": [
      "Enter the num1 10\n",
      "Enter the num2 0\n"
     ]
    },
    {
     "name": "stdout",
     "output_type": "stream",
     "text": [
      "<class 'ZeroDivisionError'>\n",
      "The code ran\n"
     ]
    }
   ],
   "source": [
    "try:\n",
    "    num1=int(input('Enter the num1'))\n",
    "    num2=int(input('Enter the num2'))\n",
    "    result=num1/num2\n",
    "except ValueError as e:\n",
    "    print(type(e))\n",
    "except ZeroDivisionError as e:\n",
    "    print(type(e))\n",
    "else:\n",
    "    print('The result is:',result)\n",
    "finally:\n",
    "    print('The code ran')"
   ]
  },
  {
   "cell_type": "code",
   "execution_count": null,
   "id": "b934a78c-fabd-4b5b-8fd2-8f0d4a8207fd",
   "metadata": {},
   "outputs": [],
   "source": [
    "\n",
    "try:\n",
    "except: # we can have multiple else block#\n",
    "except:\n",
    "except:\n",
    ".\n",
    ".\n",
    ".\n",
    "else: # There is onlly one else block\n",
    "finally"
   ]
  },
  {
   "cell_type": "code",
   "execution_count": null,
   "id": "2467f9c3-3b0d-4bf6-855d-7730f26df2a4",
   "metadata": {},
   "outputs": [],
   "source": [
    "class TooYoungException(Exception):\n",
    "    pass\n",
    "\n",
    "class TooOldException(Exception):\n",
    "    pass"
   ]
  },
  {
   "cell_type": "code",
   "execution_count": 3,
   "id": "50aa3220-24e7-4537-8cb0-9910b4e0cd87",
   "metadata": {},
   "outputs": [
    {
     "name": "stdin",
     "output_type": "stream",
     "text": [
      "Enter your age 20\n"
     ]
    },
    {
     "name": "stdout",
     "output_type": "stream",
     "text": [
      "Your ticket is confirmed\n",
      "Enjoy the movie\n"
     ]
    }
   ],
   "source": [
    "try:\n",
    "    enter_age= int(input('Enter your age'))\n",
    "    if enter_age<18:\n",
    "        raise TooYoungException\n",
    "    elif enter_age>60:\n",
    "        raise TooOldException\n",
    "    else:\n",
    "        print('Your ticket is confirmed')\n",
    "\n",
    "except TooYoungException:\n",
    "    print('You are too young to see a movie')\n",
    "    \n",
    "except TooOldException:\n",
    "    Print('You are too old to see a movie')\n",
    "\n",
    "else:\n",
    "    print('Enjoy the movie')\n",
    "\n",
    "finally:\n",
    "    ('Your transaction is completed, have a nice Day!!!')         "
   ]
  },
  {
   "cell_type": "code",
   "execution_count": 4,
   "id": "e6a8682c-df60-48bb-abdd-f620229f2ac0",
   "metadata": {},
   "outputs": [
    {
     "name": "stdin",
     "output_type": "stream",
     "text": [
      "Enter your age 17\n"
     ]
    },
    {
     "ename": "NameError",
     "evalue": "name 'TooYoungException' is not defined",
     "output_type": "error",
     "traceback": [
      "\u001b[1;31m---------------------------------------------------------------------------\u001b[0m",
      "\u001b[1;31mNameError\u001b[0m                                 Traceback (most recent call last)",
      "Cell \u001b[1;32mIn[4], line 4\u001b[0m\n\u001b[0;32m      3\u001b[0m \u001b[38;5;28;01mif\u001b[39;00m enter_age\u001b[38;5;241m<\u001b[39m\u001b[38;5;241m18\u001b[39m:\n\u001b[1;32m----> 4\u001b[0m     \u001b[38;5;28;01mraise\u001b[39;00m TooYoungException\n\u001b[0;32m      5\u001b[0m \u001b[38;5;28;01melif\u001b[39;00m enter_age\u001b[38;5;241m>\u001b[39m\u001b[38;5;241m60\u001b[39m:\n",
      "\u001b[1;31mNameError\u001b[0m: name 'TooYoungException' is not defined",
      "\nDuring handling of the above exception, another exception occurred:\n",
      "\u001b[1;31mNameError\u001b[0m                                 Traceback (most recent call last)",
      "Cell \u001b[1;32mIn[4], line 10\u001b[0m\n\u001b[0;32m      7\u001b[0m     \u001b[38;5;28;01melse\u001b[39;00m:\n\u001b[0;32m      8\u001b[0m         \u001b[38;5;28mprint\u001b[39m(\u001b[38;5;124m'\u001b[39m\u001b[38;5;124mYour ticket is confirmed\u001b[39m\u001b[38;5;124m'\u001b[39m)\n\u001b[1;32m---> 10\u001b[0m \u001b[38;5;28;01mexcept\u001b[39;00m TooYoungException:\n\u001b[0;32m     11\u001b[0m     \u001b[38;5;28mprint\u001b[39m(\u001b[38;5;124m'\u001b[39m\u001b[38;5;124mYou are too young to see a movie\u001b[39m\u001b[38;5;124m'\u001b[39m)\n\u001b[0;32m     13\u001b[0m \u001b[38;5;28;01mexcept\u001b[39;00m TooOldException:\n",
      "\u001b[1;31mNameError\u001b[0m: name 'TooYoungException' is not defined"
     ]
    }
   ],
   "source": [
    "try:\n",
    "    enter_age= int(input('Enter your age'))\n",
    "    if enter_age<18:\n",
    "        raise TooYoungException\n",
    "    elif enter_age>60:\n",
    "        raise TooOldException\n",
    "    else:\n",
    "        print('Your ticket is confirmed')\n",
    "\n",
    "except TooYoungException:\n",
    "    print('You are too young to see a movie')\n",
    "    \n",
    "except TooOldException:\n",
    "    Print('You are too old to see a movie')\n",
    "\n",
    "else:\n",
    "    print('Enjoy the movie')\n",
    "\n",
    "finally:\n",
    "    ('Your transaction is completed, have a nice Day!!!')         "
   ]
  },
  {
   "cell_type": "code",
   "execution_count": null,
   "id": "cf7f7432-1b34-42f4-a9db-59c4e25cdb24",
   "metadata": {},
   "outputs": [],
   "source": []
  },
  {
   "cell_type": "code",
   "execution_count": null,
   "id": "2ca20e4e-e622-4bd3-ab11-d118b195ca1d",
   "metadata": {},
   "outputs": [],
   "source": []
  }
 ],
 "metadata": {
  "kernelspec": {
   "display_name": "Python 3 (ipykernel)",
   "language": "python",
   "name": "python3"
  },
  "language_info": {
   "codemirror_mode": {
    "name": "ipython",
    "version": 3
   },
   "file_extension": ".py",
   "mimetype": "text/x-python",
   "name": "python",
   "nbconvert_exporter": "python",
   "pygments_lexer": "ipython3",
   "version": "3.11.7"
  }
 },
 "nbformat": 4,
 "nbformat_minor": 5
}
