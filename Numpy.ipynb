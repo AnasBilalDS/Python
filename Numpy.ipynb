{
 "cells": [
  {
   "cell_type": "code",
   "execution_count": 1,
   "id": "0bc45fcb-d1bc-4a86-8237-9fbacd377551",
   "metadata": {},
   "outputs": [],
   "source": [
    "# for importion numpy#\n",
    "import numpy as np"
   ]
  },
  {
   "cell_type": "code",
   "execution_count": 8,
   "id": "ffcda97b-ddc0-4d24-aa2d-7b171dc1188d",
   "metadata": {},
   "outputs": [
    {
     "data": {
      "text/plain": [
       "'1.26.4'"
      ]
     },
     "execution_count": 8,
     "metadata": {},
     "output_type": "execute_result"
    }
   ],
   "source": [
    "# For Checking numpy version#\n",
    "np.__version__"
   ]
  },
  {
   "cell_type": "code",
   "execution_count": 9,
   "id": "9b61df9a-06ed-4218-b845-76be0f6ad2d9",
   "metadata": {},
   "outputs": [
    {
     "data": {
      "text/plain": [
       "'1.26.4'"
      ]
     },
     "execution_count": 9,
     "metadata": {},
     "output_type": "execute_result"
    }
   ],
   "source": [
    "np.version.version"
   ]
  },
  {
   "cell_type": "code",
   "execution_count": 10,
   "id": "d9cebc69-dcc8-4843-a552-01e32db65a6c",
   "metadata": {},
   "outputs": [],
   "source": [
    "sales=[4321,4567,5678,9843]\n",
    "profit=[232,987,965,456]"
   ]
  },
  {
   "cell_type": "code",
   "execution_count": 11,
   "id": "ceefe19d-0a3e-4e22-8fd9-90a9ddfecfb5",
   "metadata": {},
   "outputs": [
    {
     "data": {
      "text/plain": [
       "[4321, 4567, 5678, 9843]"
      ]
     },
     "execution_count": 11,
     "metadata": {},
     "output_type": "execute_result"
    }
   ],
   "source": [
    "sales"
   ]
  },
  {
   "cell_type": "code",
   "execution_count": 12,
   "id": "985aa3b0-6e09-4d6f-a565-0d44c5f1f38b",
   "metadata": {},
   "outputs": [
    {
     "data": {
      "text/plain": [
       "[232, 987, 965, 456]"
      ]
     },
     "execution_count": 12,
     "metadata": {},
     "output_type": "execute_result"
    }
   ],
   "source": [
    "profit"
   ]
  },
  {
   "cell_type": "code",
   "execution_count": 15,
   "id": "8ec267e9-0e5b-4c7a-8e96-f082b0d3cdbb",
   "metadata": {},
   "outputs": [
    {
     "name": "stdout",
     "output_type": "stream",
     "text": [
      "18.625\n",
      "4.627152988855117\n",
      "5.883937823834197\n",
      "21.585526315789473\n"
     ]
    }
   ],
   "source": [
    "for i in range(0,len(sales)):\n",
    "    print(sales[i]/profit[i])"
   ]
  },
  {
   "cell_type": "code",
   "execution_count": null,
   "id": "6e8d030c-f143-49a7-a049-7a71b3040d71",
   "metadata": {},
   "outputs": [],
   "source": [
    "# Matrix is a collection of row and column, Its a 2 D array#"
   ]
  },
  {
   "cell_type": "code",
   "execution_count": null,
   "id": "4b1fcbfa-2f4b-4f7c-a753-b75dc71096e6",
   "metadata": {},
   "outputs": [],
   "source": [
    "#Tensors: collection of Matrix, Its a n Dimension array#"
   ]
  },
  {
   "cell_type": "code",
   "execution_count": 16,
   "id": "19bb68e6-a19b-49ef-a8dd-dbb91ed33552",
   "metadata": {},
   "outputs": [],
   "source": [
    "# How can we convert a list type to an array #\n",
    "sales_array=np.array(sales)\n",
    "profit_array=np.array(profit)"
   ]
  },
  {
   "cell_type": "code",
   "execution_count": 18,
   "id": "1f6b32cc-e599-4470-a065-32c097dc7ed5",
   "metadata": {},
   "outputs": [
    {
     "data": {
      "text/plain": [
       "array([232, 987, 965, 456])"
      ]
     },
     "execution_count": 18,
     "metadata": {},
     "output_type": "execute_result"
    }
   ],
   "source": [
    "profit_array"
   ]
  },
  {
   "cell_type": "code",
   "execution_count": 19,
   "id": "f5525a69-68b5-468a-bfb1-6b8da79c370b",
   "metadata": {},
   "outputs": [
    {
     "data": {
      "text/plain": [
       "array([4321, 4567, 5678, 9843])"
      ]
     },
     "execution_count": 19,
     "metadata": {},
     "output_type": "execute_result"
    }
   ],
   "source": [
    "sales_array"
   ]
  },
  {
   "cell_type": "code",
   "execution_count": 21,
   "id": "53a39892-a79f-4713-b3b8-ab6a7da95d64",
   "metadata": {},
   "outputs": [
    {
     "data": {
      "text/plain": [
       "array([18.625     ,  4.62715299,  5.88393782, 21.58552632])"
      ]
     },
     "execution_count": 21,
     "metadata": {},
     "output_type": "execute_result"
    }
   ],
   "source": [
    "sales_array/profit_array"
   ]
  },
  {
   "cell_type": "code",
   "execution_count": 22,
   "id": "6ab0b017-d5ab-4088-8eef-ec633eefbe04",
   "metadata": {},
   "outputs": [],
   "source": [
    "sales_us=[10,15,20,25]\n",
    "sales_eu=[30,35,40,45]\n",
    "sales_jp=[50,55,60,65]"
   ]
  },
  {
   "cell_type": "code",
   "execution_count": 24,
   "id": "a93f899a-fa7a-4cd4-a65b-0c627d0083bf",
   "metadata": {},
   "outputs": [],
   "source": [
    "# How can we convert 3 sales data into array #\n",
    "sales_matrix=np.array([sales_us,sales_eu,sales_jp])"
   ]
  },
  {
   "cell_type": "code",
   "execution_count": 25,
   "id": "a3ff1f99-53b0-4559-8db7-bc15a83aaf4b",
   "metadata": {},
   "outputs": [
    {
     "data": {
      "text/plain": [
       "array([[10, 15, 20, 25],\n",
       "       [30, 35, 40, 45],\n",
       "       [50, 55, 60, 65]])"
      ]
     },
     "execution_count": 25,
     "metadata": {},
     "output_type": "execute_result"
    }
   ],
   "source": [
    "sales_matrix"
   ]
  },
  {
   "cell_type": "code",
   "execution_count": 29,
   "id": "38684930-f3f2-47cd-9594-bb045ca233a1",
   "metadata": {},
   "outputs": [
    {
     "data": {
      "text/plain": [
       "60"
      ]
     },
     "execution_count": 29,
     "metadata": {},
     "output_type": "execute_result"
    }
   ],
   "source": [
    "# If I want to fetch 60 from the array #\n",
    "sales_matrix[2,2]"
   ]
  },
  {
   "cell_type": "code",
   "execution_count": 46,
   "id": "25d7bd75-5434-47e5-99d5-5cb265616f85",
   "metadata": {},
   "outputs": [
    {
     "data": {
      "text/plain": [
       "array([[15, 20],\n",
       "       [35, 40]])"
      ]
     },
     "execution_count": 46,
     "metadata": {},
     "output_type": "execute_result"
    }
   ],
   "source": [
    "sales_matrix[0:2,1:3]"
   ]
  },
  {
   "cell_type": "code",
   "execution_count": 47,
   "id": "5c900225-d057-487d-b755-47fd7dc6fcd6",
   "metadata": {},
   "outputs": [
    {
     "data": {
      "text/plain": [
       "37.5"
      ]
     },
     "execution_count": 47,
     "metadata": {},
     "output_type": "execute_result"
    }
   ],
   "source": [
    "# How to find mean from an array #\n",
    "np.mean(sales_matrix)"
   ]
  },
  {
   "cell_type": "code",
   "execution_count": 48,
   "id": "9309d996-ec36-4acf-9ba2-a709bf442424",
   "metadata": {},
   "outputs": [
    {
     "data": {
      "text/plain": [
       "array([30., 35., 40., 45.])"
      ]
     },
     "execution_count": 48,
     "metadata": {},
     "output_type": "execute_result"
    }
   ],
   "source": [
    "# 0 is column wise#\n",
    "#1 is row wise #\n",
    "np.mean(sales_matrix,axis=0)"
   ]
  },
  {
   "cell_type": "code",
   "execution_count": 50,
   "id": "880f4ce8-6a0f-4912-bc05-bc966977fc9f",
   "metadata": {},
   "outputs": [
    {
     "data": {
      "text/plain": [
       "(3, 4)"
      ]
     },
     "execution_count": 50,
     "metadata": {},
     "output_type": "execute_result"
    }
   ],
   "source": [
    "np.shape(sales_matrix)"
   ]
  },
  {
   "cell_type": "code",
   "execution_count": null,
   "id": "0a3a44cb-a9ed-40d1-a267-e7047d37dba0",
   "metadata": {},
   "outputs": [],
   "source": []
  },
  {
   "cell_type": "code",
   "execution_count": null,
   "id": "22a1bf03-fdb9-4aea-91b0-93a757f56e2c",
   "metadata": {},
   "outputs": [],
   "source": []
  }
 ],
 "metadata": {
  "kernelspec": {
   "display_name": "Python 3 (ipykernel)",
   "language": "python",
   "name": "python3"
  },
  "language_info": {
   "codemirror_mode": {
    "name": "ipython",
    "version": 3
   },
   "file_extension": ".py",
   "mimetype": "text/x-python",
   "name": "python",
   "nbconvert_exporter": "python",
   "pygments_lexer": "ipython3",
   "version": "3.11.7"
  }
 },
 "nbformat": 4,
 "nbformat_minor": 5
}
