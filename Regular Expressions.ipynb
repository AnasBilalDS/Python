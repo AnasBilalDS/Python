{
 "cells": [
  {
   "cell_type": "markdown",
   "id": "c6f0aa76-85bb-406c-bac7-15222bc5c7bb",
   "metadata": {},
   "source": [
    "Regular Expressions"
   ]
  },
  {
   "cell_type": "code",
   "execution_count": 1,
   "id": "8fbfd84c-23b1-4c24-bf56-6906f4467155",
   "metadata": {},
   "outputs": [],
   "source": [
    "import re"
   ]
  },
  {
   "cell_type": "code",
   "execution_count": null,
   "id": "073d0a83-20ab-4046-ab3e-3a4118c99beb",
   "metadata": {},
   "outputs": [],
   "source": [
    "finditer()\n",
    "\n",
    "match()\n",
    "\n",
    "fullmatch()\n",
    "\n",
    "search()\n",
    "\n",
    "findall()\n",
    "\n",
    "sub()\n",
    "\n",
    "subn()\n",
    "\n",
    "split()"
   ]
  },
  {
   "cell_type": "code",
   "execution_count": null,
   "id": "d9d76dd7-ff37-49f6-9ff0-676efd398d97",
   "metadata": {},
   "outputs": [],
   "source": [
    "finditer() - It finds the iteration of the characters \n",
    "\n",
    "[abc] - We are looking for either a or b or c \n",
    "\n",
    "[^abc] - We are looking for except a or b or c \n",
    "\n",
    "[a-z] - All the small characters \n",
    "\n",
    "[A-Z] - All the capital characters \n",
    "\n",
    "[a-zA-Z] - All the characters no matter it is caps or small \n",
    "\n",
    "[0-9] - Looking for numbers \n",
    "\n",
    "[a-zA-Z0-9] - All the numbers and alphabets \n",
    "\n",
    "[^a-zA-Z0-9] - All the special characters "
   ]
  },
  {
   "cell_type": "code",
   "execution_count": 10,
   "id": "93054f61-4075-4b84-a8c5-847ae3821ffc",
   "metadata": {},
   "outputs": [
    {
     "name": "stdout",
     "output_type": "stream",
     "text": [
      "0 .. 1 .. a\n",
      "4 .. 5 .. b\n",
      "5 .. 6 .. c\n",
      "8 .. 9 .. c\n"
     ]
    }
   ],
   "source": [
    "# Find the occurence of a,b or c #\n",
    "string=\"a7d@bc6fc4\"\n",
    "for i in re.finditer('[abc]',string):\n",
    "    print(i.start(),'..',i.end(),'..',i.group())"
   ]
  },
  {
   "cell_type": "code",
   "execution_count": 11,
   "id": "18b351d8-23ee-43c7-8fce-6e60073ea954",
   "metadata": {},
   "outputs": [
    {
     "name": "stdout",
     "output_type": "stream",
     "text": [
      "1 .. 2 .. 7\n",
      "2 .. 3 .. d\n",
      "3 .. 4 .. @\n",
      "6 .. 7 .. 6\n",
      "7 .. 8 .. f\n",
      "9 .. 10 .. 4\n"
     ]
    }
   ],
   "source": [
    "# Find all characters except a b c #\n",
    "string=\"a7d@bc6fc4\"\n",
    "for i in re.finditer('[^abc]',string):\n",
    "    print(i.start(),'..',i.end(),'..',i.group())"
   ]
  },
  {
   "cell_type": "code",
   "execution_count": 14,
   "id": "5d6ab9f2-8d51-4414-8831-a15a014281d2",
   "metadata": {},
   "outputs": [
    {
     "name": "stdout",
     "output_type": "stream",
     "text": [
      "0 .. 1 .. a\n",
      "2 .. 3 .. d\n",
      "4 .. 5 .. b\n",
      "5 .. 6 .. c\n",
      "7 .. 8 .. f\n",
      "8 .. 9 .. c\n"
     ]
    }
   ],
   "source": [
    "string=\"a7d@bc6fc4\"\n",
    "for i in re.finditer('[a-z]',string):\n",
    "    print(i.start(),'..',i.end(),'..',i.group())"
   ]
  },
  {
   "cell_type": "code",
   "execution_count": 15,
   "id": "85869f95-e42f-49c4-a48b-9ed87c575307",
   "metadata": {},
   "outputs": [
    {
     "name": "stdout",
     "output_type": "stream",
     "text": [
      "8 .. 9 .. C\n",
      "9 .. 10 .. Z\n"
     ]
    }
   ],
   "source": [
    "string=\"a7d@bc6fCZ4\"\n",
    "for i in re.finditer('[A-Z]',string):\n",
    "    print(i.start(),'..',i.end(),'..',i.group())"
   ]
  },
  {
   "cell_type": "code",
   "execution_count": 16,
   "id": "f5321592-6de6-45b9-a936-b006cb516089",
   "metadata": {},
   "outputs": [
    {
     "name": "stdout",
     "output_type": "stream",
     "text": [
      "0 .. 1 .. a\n",
      "2 .. 3 .. d\n",
      "4 .. 5 .. b\n",
      "5 .. 6 .. c\n",
      "7 .. 8 .. f\n",
      "8 .. 9 .. C\n",
      "9 .. 10 .. Z\n"
     ]
    }
   ],
   "source": [
    "string=\"a7d@bc6fCZ4\"\n",
    "for i in re.finditer('[a-zA-Z]',string):\n",
    "    print(i.start(),'..',i.end(),'..',i.group())"
   ]
  },
  {
   "cell_type": "code",
   "execution_count": 17,
   "id": "f73ea3d4-bf01-41d3-8fbd-b26dca941e31",
   "metadata": {},
   "outputs": [
    {
     "name": "stdout",
     "output_type": "stream",
     "text": [
      "1 .. 2 .. 7\n",
      "6 .. 7 .. 6\n",
      "10 .. 11 .. 4\n"
     ]
    }
   ],
   "source": [
    "string=\"a7d@bc6fCZ4\"\n",
    "for i in re.finditer('[0-9]',string):\n",
    "    print(i.start(),'..',i.end(),'..',i.group())"
   ]
  },
  {
   "cell_type": "code",
   "execution_count": 18,
   "id": "cdea0c4e-f948-4706-9dfd-f301c835b927",
   "metadata": {},
   "outputs": [
    {
     "name": "stdout",
     "output_type": "stream",
     "text": [
      "0 .. 1 .. a\n",
      "1 .. 2 .. 7\n",
      "2 .. 3 .. d\n",
      "4 .. 5 .. b\n",
      "5 .. 6 .. c\n",
      "6 .. 7 .. 6\n",
      "7 .. 8 .. f\n",
      "8 .. 9 .. C\n",
      "9 .. 10 .. Z\n",
      "10 .. 11 .. 4\n"
     ]
    }
   ],
   "source": [
    "string=\"a7d@bc6fCZ4\"\n",
    "for i in re.finditer('[a-zA-Z0-9]',string):\n",
    "    print(i.start(),'..',i.end(),'..',i.group())"
   ]
  },
  {
   "cell_type": "code",
   "execution_count": 20,
   "id": "0c61e9e3-e83a-4e34-8841-301b1f046bb1",
   "metadata": {},
   "outputs": [
    {
     "name": "stdout",
     "output_type": "stream",
     "text": [
      "3 .. 4 .. @\n",
      "6 .. 7 ..  \n"
     ]
    }
   ],
   "source": [
    "string=\"a7d@bc 6fCZ4\"\n",
    "for i in re.finditer('[^a-zA-Z0-9]',string):\n",
    "    print(i.start(),'..',i.end(),'..',i.group())"
   ]
  },
  {
   "cell_type": "code",
   "execution_count": null,
   "id": "21563837-f4b9-47ba-ad0b-bf2152025156",
   "metadata": {},
   "outputs": [],
   "source": [
    "\\d - Only numbers\n",
    "\\s - spaces\n",
    "\\S - Except spaces \n",
    "\\D - Except numbers \n",
    "\\w - Alphanumeric \n",
    "\\W - Except Alphanumeric\n",
    ". - All characters "
   ]
  },
  {
   "cell_type": "code",
   "execution_count": 21,
   "id": "f7ff4240-458d-4a7d-9eea-74d5baf923d5",
   "metadata": {},
   "outputs": [
    {
     "name": "stdout",
     "output_type": "stream",
     "text": [
      "1 .. 2 .. 7\n",
      "7 .. 8 .. 6\n",
      "11 .. 12 .. 4\n"
     ]
    }
   ],
   "source": [
    "string=\"a7d@bc 6fCZ4\"\n",
    "for i in re.finditer('[\\d]',string):\n",
    "    print(i.start(),'..',i.end(),'..',i.group())"
   ]
  },
  {
   "cell_type": "code",
   "execution_count": 22,
   "id": "4175e573-1a6f-4193-a893-8f08f2b04808",
   "metadata": {},
   "outputs": [
    {
     "name": "stdout",
     "output_type": "stream",
     "text": [
      "0 .. 1 .. a\n",
      "2 .. 3 .. d\n",
      "3 .. 4 .. @\n",
      "4 .. 5 .. b\n",
      "5 .. 6 .. c\n",
      "6 .. 7 ..  \n",
      "8 .. 9 .. f\n",
      "9 .. 10 .. C\n",
      "10 .. 11 .. Z\n"
     ]
    }
   ],
   "source": [
    "string=\"a7d@bc 6fCZ4\"\n",
    "for i in re.finditer('[\\D]',string):\n",
    "    print(i.start(),'..',i.end(),'..',i.group())"
   ]
  },
  {
   "cell_type": "code",
   "execution_count": 25,
   "id": "11a07af3-11dc-4458-aa35-1d0ab26c10a0",
   "metadata": {},
   "outputs": [
    {
     "name": "stdout",
     "output_type": "stream",
     "text": [
      "0 .. 1 .. a\n",
      "1 .. 2 .. 7\n",
      "2 .. 3 .. d\n",
      "4 .. 5 .. b\n",
      "5 .. 6 .. c\n",
      "7 .. 8 .. 6\n",
      "8 .. 9 .. f\n",
      "9 .. 10 .. C\n",
      "10 .. 11 .. Z\n",
      "11 .. 12 .. 4\n"
     ]
    }
   ],
   "source": [
    "string=\"a7d@bc 6fCZ4\"\n",
    "for i in re.finditer('[\\w]',string):\n",
    "    print(i.start(),'..',i.end(),'..',i.group())"
   ]
  },
  {
   "cell_type": "code",
   "execution_count": 3,
   "id": "6b5b3dd7-9410-4b12-9641-6fcf3c09787c",
   "metadata": {},
   "outputs": [
    {
     "name": "stdout",
     "output_type": "stream",
     "text": [
      "0 .. 1 .. a\n",
      "1 .. 2 .. 7\n",
      "2 .. 3 .. d\n",
      "3 .. 4 .. @\n",
      "4 .. 5 .. b\n",
      "5 .. 6 .. c\n",
      "6 .. 7 ..  \n",
      "7 .. 8 .. 6\n",
      "8 .. 9 .. f\n",
      "9 .. 10 .. C\n",
      "10 .. 11 .. Z\n",
      "11 .. 12 .. 4\n"
     ]
    }
   ],
   "source": [
    "# if i am looking for all characters #\n",
    "string=\"a7d@bc 6fCZ4\"\n",
    "for i in re.finditer('.',string):\n",
    "    print(i.start(),'..',i.end(),'..',i.group())"
   ]
  },
  {
   "cell_type": "code",
   "execution_count": 28,
   "id": "e99d1715-9416-4c2a-9192-1c8a7eac41b6",
   "metadata": {},
   "outputs": [
    {
     "name": "stdout",
     "output_type": "stream",
     "text": [
      "0 .. 3 .. abc\n"
     ]
    }
   ],
   "source": [
    "# It will look for abc together #\n",
    "string=\"abc7d@bc 6fCZ4\"\n",
    "for i in re.finditer('abc',string):\n",
    "    print(i.start(),'..',i.end(),'..',i.group())"
   ]
  },
  {
   "cell_type": "code",
   "execution_count": 4,
   "id": "fd75769a-0353-4e5c-bdc7-867899e08839",
   "metadata": {},
   "outputs": [
    {
     "name": "stdout",
     "output_type": "stream",
     "text": [
      "0 .. 1 .. c\n",
      "2 .. 3 .. c\n",
      "3 .. 4 .. c\n",
      "5 .. 6 .. c\n",
      "7 .. 8 .. c\n",
      "8 .. 9 .. c\n",
      "10 .. 11 .. c\n",
      "11 .. 12 .. c\n",
      "12 .. 13 .. c\n"
     ]
    }
   ],
   "source": [
    "# If i am looking for occurence of single c then we can do it as#\n",
    "string=\"cdccacdccdccc\"\n",
    "for i in re.finditer('c',string):\n",
    "    print(i.start(),'..',i.end(),'..',i.group())"
   ]
  },
  {
   "cell_type": "code",
   "execution_count": 6,
   "id": "365aab16-56b7-47ee-82b6-a769c1a000dd",
   "metadata": {},
   "outputs": [
    {
     "name": "stdout",
     "output_type": "stream",
     "text": [
      "0 .. 1 .. c\n",
      "2 .. 3 .. c\n",
      "3 .. 4 .. c\n",
      "5 .. 6 .. c\n",
      "7 .. 8 .. c\n",
      "8 .. 9 .. c\n",
      "10 .. 11 .. c\n",
      "11 .. 12 .. c\n",
      "12 .. 13 .. c\n"
     ]
    }
   ],
   "source": [
    "string=\"cdccacdccdccc\"\n",
    "for i in re.finditer('[c]',string):\n",
    "    print(i.start(),'..',i.end(),'..',i.group())"
   ]
  },
  {
   "cell_type": "code",
   "execution_count": 7,
   "id": "6cff1962-5f3c-4ba6-90af-ad5c9c3d74e0",
   "metadata": {},
   "outputs": [
    {
     "name": "stdout",
     "output_type": "stream",
     "text": [
      "0 .. 1 .. c\n",
      "2 .. 3 .. c\n",
      "3 .. 4 .. c\n",
      "5 .. 6 .. c\n",
      "7 .. 8 .. c\n",
      "8 .. 9 .. c\n",
      "10 .. 11 .. c\n",
      "11 .. 12 .. c\n",
      "12 .. 13 .. c\n"
     ]
    }
   ],
   "source": [
    "string=\"cdccacdccdccc\"\n",
    "for i in re.finditer('[cc]',string):\n",
    "    print(i.start(),'..',i.end(),'..',i.group())"
   ]
  },
  {
   "cell_type": "code",
   "execution_count": 8,
   "id": "4e9fe13f-c299-428f-80ef-593ca5b0e0f1",
   "metadata": {},
   "outputs": [
    {
     "name": "stdout",
     "output_type": "stream",
     "text": [
      "2 .. 4 .. cc\n",
      "7 .. 9 .. cc\n",
      "10 .. 12 .. cc\n"
     ]
    }
   ],
   "source": [
    "# for occurence of c Twice#\n",
    "string=\"cdccacdccdccc\"\n",
    "for i in re.finditer('cc',string):\n",
    "    print(i.start(),'..',i.end(),'..',i.group())"
   ]
  },
  {
   "cell_type": "code",
   "execution_count": 9,
   "id": "985609a1-d5c5-4286-872d-077bef14ff2c",
   "metadata": {},
   "outputs": [
    {
     "name": "stdout",
     "output_type": "stream",
     "text": [
      "0 .. 2 .. cd\n",
      "5 .. 7 .. cd\n",
      "8 .. 10 .. cd\n"
     ]
    }
   ],
   "source": [
    "# Occurence of cd#\n",
    "# for occurence of cd#\n",
    "string=\"cdccacdccdccc\"\n",
    "for i in re.finditer('cd',string):\n",
    "    print(i.start(),'..',i.end(),'..',i.group())"
   ]
  },
  {
   "cell_type": "code",
   "execution_count": 10,
   "id": "f29b1b9b-ca8a-4e70-a31d-59f8b68ae2aa",
   "metadata": {},
   "outputs": [
    {
     "name": "stdout",
     "output_type": "stream",
     "text": [
      "0 .. 1 .. c\n",
      "1 .. 2 .. d\n",
      "2 .. 3 .. c\n",
      "3 .. 4 .. c\n",
      "5 .. 6 .. c\n",
      "6 .. 7 .. d\n",
      "7 .. 8 .. c\n",
      "8 .. 9 .. c\n",
      "9 .. 10 .. d\n",
      "10 .. 11 .. c\n",
      "11 .. 12 .. c\n",
      "12 .. 13 .. c\n"
     ]
    }
   ],
   "source": [
    "# for occurence of either c or d #\n",
    "string=\"cdccacdccdccc\"\n",
    "for i in re.finditer('[cd]',string):\n",
    "    print(i.start(),'..',i.end(),'..',i.group())"
   ]
  },
  {
   "cell_type": "code",
   "execution_count": 11,
   "id": "816f20ce-0c71-42b6-b256-10da74655ae9",
   "metadata": {},
   "outputs": [
    {
     "name": "stdout",
     "output_type": "stream",
     "text": [
      "0 .. 1 .. c\n",
      "2 .. 4 .. cc\n",
      "5 .. 6 .. c\n",
      "7 .. 9 .. cc\n",
      "10 .. 13 .. ccc\n"
     ]
    }
   ],
   "source": [
    "# It gives the occurence of all c i.e Single c Double c and Triple C #\n",
    "string=\"cdccacdccdccc\"\n",
    "for i in re.finditer('c+',string):\n",
    "    print(i.start(),'..',i.end(),'..',i.group())"
   ]
  },
  {
   "cell_type": "code",
   "execution_count": 12,
   "id": "03cfee56-b24b-495b-9871-2f95b79729fd",
   "metadata": {},
   "outputs": [
    {
     "name": "stdout",
     "output_type": "stream",
     "text": [
      "0 .. 1 .. c\n",
      "1 .. 1 .. \n",
      "2 .. 4 .. cc\n",
      "4 .. 4 .. \n",
      "5 .. 6 .. c\n",
      "6 .. 6 .. \n",
      "7 .. 9 .. cc\n",
      "9 .. 9 .. \n",
      "10 .. 13 .. ccc\n",
      "13 .. 13 .. \n"
     ]
    }
   ],
   "source": [
    "# It gives the occurence of c's and position of all non c's\n",
    "string=\"cdccacdccdccc\"\n",
    "for i in re.finditer('c*',string):\n",
    "    print(i.start(),'..',i.end(),'..',i.group())"
   ]
  },
  {
   "cell_type": "code",
   "execution_count": 13,
   "id": "3fd00469-998a-4344-8ae5-e0f44b44b5dc",
   "metadata": {},
   "outputs": [
    {
     "name": "stdout",
     "output_type": "stream",
     "text": [
      "0 .. 1 .. c\n",
      "1 .. 1 .. \n",
      "2 .. 3 .. c\n",
      "3 .. 4 .. c\n",
      "4 .. 4 .. \n",
      "5 .. 6 .. c\n",
      "6 .. 6 .. \n",
      "7 .. 8 .. c\n",
      "8 .. 9 .. c\n",
      "9 .. 9 .. \n",
      "10 .. 11 .. c\n",
      "11 .. 12 .. c\n",
      "12 .. 13 .. c\n",
      "13 .. 13 .. \n"
     ]
    }
   ],
   "source": [
    "string=\"cdccacdccdccc\"\n",
    "for i in re.finditer('c?',string):\n",
    "    print(i.start(),'..',i.end(),'..',i.group())"
   ]
  },
  {
   "cell_type": "code",
   "execution_count": 16,
   "id": "11c5e430-5af3-4d32-af06-20c904c4b931",
   "metadata": {},
   "outputs": [
    {
     "name": "stdout",
     "output_type": "stream",
     "text": [
      "2 .. 4 .. cc\n",
      "7 .. 9 .. cc\n",
      "10 .. 12 .. cc\n"
     ]
    }
   ],
   "source": [
    "# It is for occurence of 2 c's together #\n",
    "string=\"cdccacdccdccc\"\n",
    "for i in re.finditer('c{2}',string):\n",
    "    print(i.start(),'..',i.end(),'..',i.group())"
   ]
  },
  {
   "cell_type": "code",
   "execution_count": 17,
   "id": "6dfd75b5-7043-442d-b4db-bad0c9046d5f",
   "metadata": {},
   "outputs": [
    {
     "name": "stdout",
     "output_type": "stream",
     "text": [
      "0 .. 1 .. c\n"
     ]
    }
   ],
   "source": [
    "# Wheather string is starting with c or not #\n",
    "string=\"cdccacdccdccc\"\n",
    "for i in re.finditer('^c',string):\n",
    "    print(i.start(),'..',i.end(),'..',i.group())"
   ]
  },
  {
   "cell_type": "code",
   "execution_count": 20,
   "id": "b3b998e2-201e-494e-88e3-c39cc6f6e58e",
   "metadata": {},
   "outputs": [
    {
     "name": "stdout",
     "output_type": "stream",
     "text": [
      "12 .. 13 .. d\n"
     ]
    }
   ],
   "source": [
    "# Wheather string is ending with d or not #\n",
    "string=\"cdccacdccdccd\"\n",
    "for i in re.finditer('d$',string):\n",
    "    print(i.start(),'..',i.end(),'..',i.group())"
   ]
  },
  {
   "cell_type": "code",
   "execution_count": null,
   "id": "3c1e2329-4185-4d69-b4a9-eb094187663a",
   "metadata": {},
   "outputs": [],
   "source": [
    "match() it looks for character from starting till anywhere "
   ]
  },
  {
   "cell_type": "code",
   "execution_count": 27,
   "id": "3636921b-eef9-4bf5-ae52-0d2420e84dc1",
   "metadata": {},
   "outputs": [
    {
     "name": "stdin",
     "output_type": "stream",
     "text": [
      "Enter what are you looking for DataScience\n"
     ]
    },
    {
     "name": "stdout",
     "output_type": "stream",
     "text": [
      "Match found\n"
     ]
    }
   ],
   "source": [
    "string =\"DataScience with Python is the future :\"\n",
    "lookingfor = input(\"Enter what are you looking for\")\n",
    "if re.match(lookingfor,string)!=None:\n",
    "    print (\"Match found\")\n",
    "else:\n",
    "    print(\"Match not found\")"
   ]
  },
  {
   "cell_type": "code",
   "execution_count": null,
   "id": "b467c8b6-ba59-45af-bfdd-8fcf23948c2c",
   "metadata": {},
   "outputs": [],
   "source": [
    "fullmatch() It looks for entire string from begining till end"
   ]
  },
  {
   "cell_type": "code",
   "execution_count": 6,
   "id": "6cd822af-a9bd-40f3-aadc-478825126e15",
   "metadata": {},
   "outputs": [
    {
     "name": "stdin",
     "output_type": "stream",
     "text": [
      "What are you looking for Datascience with pyhthon is the future:\n"
     ]
    },
    {
     "name": "stdout",
     "output_type": "stream",
     "text": [
      "Match found\n"
     ]
    }
   ],
   "source": [
    "string = \"Datascience with pyhthon is the future:\"\n",
    "lookingfor =input(\"What are you looking for\")\n",
    "if re.fullmatch(lookingfor,string)!=None:\n",
    "    print (\"Match found\")\n",
    "else:\n",
    "    print(\"Match not found\")\n",
    "    "
   ]
  },
  {
   "cell_type": "code",
   "execution_count": null,
   "id": "1730d196-a992-4b2f-92e5-907b1e420e59",
   "metadata": {},
   "outputs": [],
   "source": [
    "search() it will find any character in teh string"
   ]
  },
  {
   "cell_type": "code",
   "execution_count": 7,
   "id": "82ee8e33-ea9f-4432-8e3c-509ca5e3488e",
   "metadata": {},
   "outputs": [
    {
     "name": "stdin",
     "output_type": "stream",
     "text": [
      "What are you looking for i\n"
     ]
    },
    {
     "name": "stdout",
     "output_type": "stream",
     "text": [
      "Match found\n"
     ]
    }
   ],
   "source": [
    "string = \"Datascience with pyhthon is the future:\"\n",
    "lookingfor =input(\"What are you looking for\")\n",
    "if re.search(lookingfor,string)!=None:\n",
    "    print (\"Match found\")\n",
    "else:\n",
    "    print(\"Match not found\")"
   ]
  },
  {
   "cell_type": "code",
   "execution_count": null,
   "id": "ea3f44b7-2eaf-49ad-b198-e3c9c57f0b36",
   "metadata": {},
   "outputs": [],
   "source": [
    "findall() it looks for occurence of keyword in the string ,i.e number of times."
   ]
  },
  {
   "cell_type": "code",
   "execution_count": 11,
   "id": "580e1dd3-e464-46e0-af5e-2b1f02e9b1db",
   "metadata": {},
   "outputs": [
    {
     "name": "stdin",
     "output_type": "stream",
     "text": [
      "What are you looking for Python\n"
     ]
    },
    {
     "name": "stdout",
     "output_type": "stream",
     "text": [
      "Match found\n"
     ]
    }
   ],
   "source": [
    "string=\"Python is the future, Python is a powerful language, Python is easy to understand, Datascience with Python is neccesary\"\n",
    "lookingfor= input (\"What are you looking for\")\n",
    "if len(re.findall(lookingfor,string))>3:\n",
    "        print (\"Match found\")\n",
    "else:\n",
    "    print(\"Match not found\")\n"
   ]
  },
  {
   "cell_type": "code",
   "execution_count": null,
   "id": "5cfbabd7-2c65-4999-a470-b8683c9d5267",
   "metadata": {},
   "outputs": [],
   "source": [
    "sub() it is for substituting the value in the string"
   ]
  },
  {
   "cell_type": "code",
   "execution_count": 12,
   "id": "fc10e8bf-c8c2-4e70-bcbf-157c62c6cb24",
   "metadata": {},
   "outputs": [
    {
     "name": "stdin",
     "output_type": "stream",
     "text": [
      "What to change Python\n",
      "With what to change C++\n"
     ]
    },
    {
     "data": {
      "text/plain": [
       "'C++ is the future, C++ is a powerful language, C++ is easy to understand, Datascience with C++ is neccesary'"
      ]
     },
     "execution_count": 12,
     "metadata": {},
     "output_type": "execute_result"
    }
   ],
   "source": [
    "string=\"Python is the future, Python is a powerful language, Python is easy to understand, Datascience with Python is neccesary\"\n",
    "whattochange= input (\"What to change\")\n",
    "whitwhattochange= input (\"With what to change\")\n",
    "re.sub(whattochange,whitwhattochange,string)"
   ]
  },
  {
   "cell_type": "code",
   "execution_count": null,
   "id": "881f1bf8-fde1-4c1a-a6e3-d990f0aa46d0",
   "metadata": {},
   "outputs": [],
   "source": [
    "subn() it is for substituting the value in the string, output will be in tupple format."
   ]
  },
  {
   "cell_type": "code",
   "execution_count": 14,
   "id": "fb3f73b4-679b-427d-99c0-e4742447a6ea",
   "metadata": {},
   "outputs": [
    {
     "name": "stdin",
     "output_type": "stream",
     "text": [
      "What to change Python\n",
      "With what to change C\n"
     ]
    },
    {
     "data": {
      "text/plain": [
       "('C is the future, C is a powerful language, C is easy to understand, Datascience with C is neccesary',\n",
       " 4)"
      ]
     },
     "execution_count": 14,
     "metadata": {},
     "output_type": "execute_result"
    }
   ],
   "source": [
    "string=\"Python is the future, Python is a powerful language, Python is easy to understand, Datascience with Python is neccesary\"\n",
    "whattochange= input (\"What to change\")\n",
    "whitwhattochange= input (\"With what to change\")\n",
    "re.subn(whattochange,whitwhattochange,string)"
   ]
  },
  {
   "cell_type": "code",
   "execution_count": null,
   "id": "71c26fa8-df1d-439a-83fd-efc9dd370752",
   "metadata": {},
   "outputs": [],
   "source": [
    "re.split() it is for splitting."
   ]
  },
  {
   "cell_type": "code",
   "execution_count": 15,
   "id": "575f1374-0922-40ac-ba9d-8b1d13bca029",
   "metadata": {},
   "outputs": [
    {
     "data": {
      "text/plain": [
       "['10', '20', '30', '40', '50']"
      ]
     },
     "execution_count": 15,
     "metadata": {},
     "output_type": "execute_result"
    }
   ],
   "source": [
    "re.split('-','10-20-30-40-50')"
   ]
  },
  {
   "cell_type": "code",
   "execution_count": 25,
   "id": "b54edda8-e16a-4f01-b102-b69f5a32274b",
   "metadata": {},
   "outputs": [
    {
     "data": {
      "text/plain": [
       "['www', 'python', 'org']"
      ]
     },
     "execution_count": 25,
     "metadata": {},
     "output_type": "execute_result"
    }
   ],
   "source": [
    "re.split('\\.', 'www.python.org')"
   ]
  },
  {
   "cell_type": "code",
   "execution_count": 27,
   "id": "c3aaff81-3576-401a-81e5-db8f005b952c",
   "metadata": {},
   "outputs": [
    {
     "data": {
      "text/plain": [
       "['www', 'python', 'org']"
      ]
     },
     "execution_count": 27,
     "metadata": {},
     "output_type": "execute_result"
    }
   ],
   "source": [
    "re.split('[.]', 'www.python.org')"
   ]
  },
  {
   "cell_type": "code",
   "execution_count": 33,
   "id": "13f949cf-520a-405c-8ceb-c8ee92d8bbb2",
   "metadata": {},
   "outputs": [
    {
     "data": {
      "text/plain": [
       "<re.Match object; span=(0, 5), match='Learn'>"
      ]
     },
     "execution_count": 33,
     "metadata": {},
     "output_type": "execute_result"
    }
   ],
   "source": [
    "string = \"Learning Python is easy\"\n",
    "re.search(\"^Learn\",string)"
   ]
  },
  {
   "cell_type": "code",
   "execution_count": 34,
   "id": "60abd160-09ea-4926-bd6f-9f7843651a3e",
   "metadata": {},
   "outputs": [
    {
     "data": {
      "text/plain": [
       "<re.Match object; span=(19, 23), match='easy'>"
      ]
     },
     "execution_count": 34,
     "metadata": {},
     "output_type": "execute_result"
    }
   ],
   "source": [
    "string = \"Learning Python is easy\"\n",
    "re.search(\"easy$\",string)"
   ]
  },
  {
   "cell_type": "code",
   "execution_count": null,
   "id": "cf65d665-7933-45a7-8eb5-223a6ebd7682",
   "metadata": {},
   "outputs": [],
   "source": [
    "re.IGNORECASE it is for removing case sensitivity"
   ]
  },
  {
   "cell_type": "code",
   "execution_count": 36,
   "id": "89e1b4db-47c7-44a3-b72f-0c6a812e1e57",
   "metadata": {},
   "outputs": [
    {
     "data": {
      "text/plain": [
       "<re.Match object; span=(0, 5), match='Learn'>"
      ]
     },
     "execution_count": 36,
     "metadata": {},
     "output_type": "execute_result"
    }
   ],
   "source": [
    "string = \"Learning Python is easy\"\n",
    "re.search(\"^learn\",string,re.IGNORECASE)"
   ]
  },
  {
   "cell_type": "code",
   "execution_count": null,
   "id": "915e8a1a-9f5f-4fb0-bb4a-f1553eec5198",
   "metadata": {},
   "outputs": [],
   "source": [
    "# Write a python code to generate a pasword for ATM pin/System #"
   ]
  },
  {
   "cell_type": "code",
   "execution_count": null,
   "id": "15734ed3-4c02-4604-817d-603b9f056dd4",
   "metadata": {},
   "outputs": [],
   "source": [
    "a) The allowable characters should be\n",
    "    a.1) Alphabets (a-z,A-Z)\n",
    "    a.2) Digits (0-9)\n",
    "    a.3) Hash (#)\n",
    "        \n",
    "b) First character should be a lowercase that too between (a-k)\n",
    "\n",
    "c) Second character should be a nuber that is divisible by 3 i.e. 0,3,6,9\n",
    "\n",
    "d) The length of the password \n",
    "    d.1) Should be exactly 5 \n",
    "    d.2) Should be minimum 5"
   ]
  },
  {
   "cell_type": "code",
   "execution_count": null,
   "id": "cac0f20d-cb8f-4b36-8e06-68cad8740c31",
   "metadata": {},
   "outputs": [],
   "source": [
    "# For Exactly 5 #"
   ]
  },
  {
   "cell_type": "code",
   "execution_count": 38,
   "id": "c9fe7759-4af7-45a6-b03d-ff719b94909c",
   "metadata": {},
   "outputs": [
    {
     "name": "stdin",
     "output_type": "stream",
     "text": [
      "Enter the password a3A##\n"
     ]
    },
    {
     "name": "stdout",
     "output_type": "stream",
     "text": [
      "Password is okay:  a3A##\n"
     ]
    }
   ],
   "source": [
    "password=input(\"Enter the password\")\n",
    "if re.fullmatch('[a-k][0369][A-Za-z0-9#]{3}',password)!=None:\n",
    "               print(\"Password is okay: \",password)\n",
    "else:\n",
    "               print(\"Password is notokay: \",password)\n"
   ]
  },
  {
   "cell_type": "code",
   "execution_count": null,
   "id": "34aad8ba-c954-4225-b89c-182f8379d25d",
   "metadata": {},
   "outputs": [],
   "source": [
    "# Minimum 5 #"
   ]
  },
  {
   "cell_type": "code",
   "execution_count": 39,
   "id": "e351b263-58eb-4a68-9fae-a8cadaba0465",
   "metadata": {},
   "outputs": [
    {
     "name": "stdin",
     "output_type": "stream",
     "text": [
      "Enter the password a30##\n"
     ]
    },
    {
     "name": "stdout",
     "output_type": "stream",
     "text": [
      "Password is okay:  a30##\n"
     ]
    }
   ],
   "source": [
    "password=input(\"Enter the password\")\n",
    "if re.fullmatch('[a-k][0369][A-Za-z0-9#]{3,}',password)!=None:\n",
    "               print(\"Password is okay: \",password)\n",
    "else:\n",
    "               print(\"Password is notokay: \",password)"
   ]
  },
  {
   "cell_type": "code",
   "execution_count": null,
   "id": "082462ad-b41f-4284-b58c-758a5fb440fa",
   "metadata": {},
   "outputs": [],
   "source": [
    "# Write a python code for genrating pancard number #"
   ]
  },
  {
   "cell_type": "code",
   "execution_count": 42,
   "id": "4b0731cf-be33-499f-9806-8afebb31fcb6",
   "metadata": {},
   "outputs": [
    {
     "name": "stdin",
     "output_type": "stream",
     "text": [
      "Enter the pancard number:  aZBPZ0987A\n"
     ]
    },
    {
     "name": "stdout",
     "output_type": "stream",
     "text": [
      "Valid pancard : aZBPZ0987A\n"
     ]
    }
   ],
   "source": [
    "pancard = input('Enter the pancard number: ')\n",
    "if re.fullmatch('[A-Za-z]{3}[CPHAFTBLJGcphaftbljg][A-Za-z][0-9]{4}[A-Za-z]',pancard):\n",
    "    print('Valid pancard :',pancard)\n",
    "else:\n",
    "    print('Invalid pancard:',pancard)"
   ]
  },
  {
   "cell_type": "code",
   "execution_count": null,
   "id": "53be5e2e-5b72-4cd4-acc1-3f23ef3ea503",
   "metadata": {},
   "outputs": [],
   "source": [
    "# Write a Python code to generate 10 digit mobile number #"
   ]
  },
  {
   "cell_type": "code",
   "execution_count": 8,
   "id": "696d1851-170d-4251-af54-d3103230c50c",
   "metadata": {},
   "outputs": [
    {
     "name": "stdin",
     "output_type": "stream",
     "text": [
      "Enter the phone number:  7689087659\n"
     ]
    },
    {
     "name": "stdout",
     "output_type": "stream",
     "text": [
      "Valid Number : 7689087659\n"
     ]
    }
   ],
   "source": [
    "phonenumber=input('Enter the phone number: ')\n",
    "if re.fullmatch('[4-9]\\d{9}',phonenumber)!=None:\n",
    "    print('Valid Number :',phonenumber)\n",
    "else:\n",
    "    print('Invalid Number :',phonenumber)\n",
    "    "
   ]
  },
  {
   "cell_type": "code",
   "execution_count": 2,
   "id": "348252cd-edd5-4c9c-81ee-20650795e8b4",
   "metadata": {},
   "outputs": [
    {
     "name": "stdin",
     "output_type": "stream",
     "text": [
      "Enter the email address:  ab@gmail.com\n"
     ]
    },
    {
     "name": "stdout",
     "output_type": "stream",
     "text": [
      "You will get the offer\n"
     ]
    }
   ],
   "source": [
    "email = input('Enter the email address: ')\n",
    "if re.fullmatch('[a-zA-Z0-9_.]*@gmail[.]com',email)!=None:\n",
    "    print('You will get the offer')\n",
    "else:\n",
    "    print('You will not get the offer')"
   ]
  },
  {
   "cell_type": "code",
   "execution_count": 3,
   "id": "f1bfd672-4d57-45f9-ac10-4c8840ab355f",
   "metadata": {},
   "outputs": [
    {
     "name": "stdin",
     "output_type": "stream",
     "text": [
      "Enter the email address:  ab@yahoo.com\n"
     ]
    },
    {
     "name": "stdout",
     "output_type": "stream",
     "text": [
      "You will not get the offer\n"
     ]
    }
   ],
   "source": [
    "email = input('Enter the email address: ')\n",
    "if re.fullmatch('[a-zA-Z0-9_.]*@[gmail|yahoo.com][.]com',email)!=None:\n",
    "    print('You will get the offer')\n",
    "else:\n",
    "    print('You will not get the offer')"
   ]
  },
  {
   "cell_type": "code",
   "execution_count": 4,
   "id": "28dd0bac-1173-459c-9ee0-e3dfe6a68e12",
   "metadata": {},
   "outputs": [
    {
     "name": "stdin",
     "output_type": "stream",
     "text": [
      "Enter the email address:  ab@tc.com\n"
     ]
    },
    {
     "name": "stdout",
     "output_type": "stream",
     "text": [
      "You will get the offer\n"
     ]
    }
   ],
   "source": [
    "email = input('Enter the email address: ')\n",
    "if re.fullmatch('[a-zA-Z0-9_.]*@[a-zA-Z0-9_.]*[.]com',email)!=None:\n",
    "    print('You will get the offer')\n",
    "else:\n",
    "    print('You will not get the offer')"
   ]
  },
  {
   "cell_type": "code",
   "execution_count": 2,
   "id": "49d41a2f-6c83-439b-8902-4ca8627261da",
   "metadata": {},
   "outputs": [
    {
     "data": {
      "text/plain": [
       "'<html>\\n<head>\\n\\t<title>Sample Addresses!</title>\\n<script async src=\"https://pagead2.googlesyndication.com/pagead/js/adsbygoogle.js?client=ca-pub-2760663110461940\"\\n     crossorigin=\"anonymous\"></script>\\n\\n</head>\\n<body>\\n<h1> A page full of sample addresses for your parsing enjoyment!</h1>\\n<h2> (All data is random....)</h2>\\n<ul>\\n\\n<script async src=\"https://pagead2.googlesyndication.com/pagead/js/adsbygoogle.js?client=ca-pub-2760663110461940\"\\n     crossorigin=\"anonymous\"></script>\\n<!-- summet.com-dmsi-addresses -->\\n<ins class=\"adsbygoogle\"\\n     style=\"display:block\"\\n     data-ad-client=\"ca-pub-2760663110461940\"\\n     data-ad-slot=\"5472586510\"\\n     data-ad-format=\"auto\"\\n     data-full-width-responsive=\"true\"></ins>\\n<script>\\n     (adsbygoogle = window.adsbygoogle || []).push({});\\n</script>\\n\\n<li>Cecilia Chapman<br/>711-2880 Nulla St.<br/>Mankato Mississippi 96522<br/>(257) 563-7401</li>\\n<li>Iris Watson<br/>P.O. Box 283 8562 Fusce Rd.<br/>Frederick Nebraska 20620<br/>(372) 587-2335</li>\\n<li>Celeste Slater<br/>606-3727 Ullamcorper. Street<br/>Roseville NH 11523<br/>(786) 713-8616</li>\\n<li>Theodore Lowe<br/>Ap #867-859 Sit Rd.<br/>Azusa New York 39531<br/>(793) 151-6230</li>\\n<li>Calista Wise<br/>7292 Dictum Av.<br/>San Antonio MI 47096<br/>(492) 709-6392</li>\\n<li>Kyla Olsen<br/>Ap #651-8679 Sodales Av.<br/>Tamuning PA 10855<br/>(654) 393-5734</li>\\n<li>Forrest Ray<br/>191-103 Integer Rd.<br/>Corona New Mexico 08219<br/>(404) 960-3807</li>\\n<li>Hiroko Potter<br/>P.O. Box 887 2508 Dolor. Av.<br/>Muskegon KY 12482<br/>(314) 244-6306</li>\\n<li>Nyssa Vazquez<br/>511-5762 At Rd.<br/>Chelsea MI 67708<br/>(947) 278-5929</li>\\n<li>Lawrence Moreno<br/>935-9940 Tortor. Street<br/>Santa Rosa MN 98804<br/>(684) 579-1879</li>\\n<li>Ina Moran<br/>P.O. Box 929 4189 Nunc Road<br/>Lebanon KY 69409<br/>(389) 737-2852</li>\\n<li>Aaron Hawkins<br/>5587 Nunc. Avenue<br/>Erie Rhode Island 24975<br/>(660) 663-4518</li>\\n<li>Hedy Greene<br/>Ap #696-3279 Viverra. Avenue<br/>Latrobe DE 38100<br/>(608) 265-2215</li>\\n<li>Melvin Porter<br/>P.O. Box 132 1599 Curabitur Rd.<br/>Bandera South Dakota 45149<br/>(959) 119-8364</li>\\n<li>Keefe Sellers<br/>347-7666 Iaculis St.<br/>Woodruff SC 49854<br/>(468) 353-2641</li>\\n<li>Joan Romero<br/>666-4366 Lacinia Avenue<br/>Idaho Falls Ohio 19253<br/>(248) 675-4007</li>\\n<li>Davis Patrick<br/>P.O. Box 147 2546 Sociosqu Rd.<br/>Bethlehem Utah 02913<br/>(939) 353-1107</li>\\n<li>Leilani Boyer<br/>557-6308 Lacinia Road<br/>San Bernardino ND 09289<br/>(570) 873-7090</li>\\n<li>Colby Bernard<br/>Ap #285-7193 Ullamcorper Avenue<br/>Amesbury HI 93373<br/>(302) 259-2375</li>\\n<li>Bryar Pitts<br/>5543 Aliquet St.<br/>Fort Dodge GA 20783<br/>(717) 450-4729</li>\\n<li>Rahim Henderson<br/>5037 Diam Rd.<br/>Daly City Ohio 90255<br/>(453) 391-4650</li>\\n<li>Noelle Adams<br/>6351 Fringilla Avenue<br/>Gardena Colorado 37547<br/>(559) 104-5475</li>\\n<li>Lillith Daniel<br/>935-1670 Neque. St.<br/>Centennial Delaware 48432<br/>(387) 142-9434</li>\\n<li>Adria Russell<br/>414-7533 Non Rd.<br/>Miami Beach North Dakota 58563<br/>(516) 745-4496</li>\\n<li>Hilda Haynes<br/>778-9383 Suspendisse Av.<br/>Weirton IN 93479<br/>(326) 677-3419</li>\\n<li>Sheila Mcintosh<br/>P.O. Box 360 4407 Et Rd.<br/>Santa Monica FL 30309<br/>(746) 679-2470</li>\\n<li>Rebecca Chambers<br/>P.O. Box 813 5982 Sit Ave<br/>Liberal Vermont 51324<br/>(455) 430-0989</li>\\n<li>Christian Emerson<br/>P.O. Box 886 4118 Arcu St.<br/>Rolling Hills Georgia 92358<br/>(490) 936-4694</li>\\n<li>Nevada Ware<br/>P.O. Box 597 4156 Tincidunt Ave<br/>Green Bay Indiana 19759<br/>(985) 834-8285</li>\\n<li>Margaret Joseph<br/>P.O. Box 508 3919 Gravida St.<br/>Tamuning Washington 55797<br/>(662) 661-1446</li>\\n<li>Edward Nieves<br/>928-3313 Vel Av.<br/>Idaho Falls Rhode Island 37232<br/>(802) 668-8240</li>\\n<li>Imani Talley<br/>P.O. Box 262 4978 Sit St.<br/>Yigo Massachusetts 50654<br/>(477) 768-9247</li>\\n<li>Bertha Riggs<br/>P.O. Box 206 6639 In St.<br/>Easthampton TN 31626<br/>(791) 239-9057</li>\\n<li>Wallace Ross<br/>313 Pellentesque Ave<br/>Villa Park Hawaii 43526<br/>(832) 109-0213</li>\\n<li>Chester Bennett<br/>3476 Aliquet. Ave<br/>Minot AZ 95302<br/>(837) 196-3274</li>\\n<li>Castor Richardson<br/>P.O. Box 902 3472 Ullamcorper Street<br/>Lynchburg DC 29738<br/>(268) 442-2428</li>\\n<li>Sonya Jordan<br/>Ap #443-336 Ullamcorper. Street<br/>Visalia VA 54886<br/>(850) 676-5117</li>\\n<li>Harrison Mcguire<br/>574-8633 Arcu Street<br/>San Fernando ID 77373<br/>(861) 546-5032</li>\\n<li>Malcolm Long<br/>9291 Proin Road<br/>Lake Charles Maine 11292<br/>(176) 805-4108</li>\\n<li>Raymond Levy<br/>Ap #643-7006 Risus St.<br/>Beaumont New Mexico 73585<br/>(715) 912-6931</li>\\n<li>Hedley Ingram<br/>737-2580 At Street<br/>Independence Texas 87535<br/>(993) 554-0563</li>\\n<li>David Mathews<br/>1011 Malesuada Road<br/>Moscow Kentucky 77382<br/>(357) 616-5411</li>\\n<li>Xyla Cash<br/>969-1762 Tincidunt Rd.<br/>Boise CT 35282<br/>(121) 347-0086</li>\\n<li>Madeline Gregory<br/>977-4841 Ut Ave<br/>Walla Walla Michigan 82776<br/>(304) 506-6314</li>\\n<li>Griffith Daniels<br/>6818 Eget St.<br/>Tacoma AL 92508<br/>(425) 288-2332</li>\\n<li>Anne Beasley<br/>987-4223 Urna St.<br/>Savannah Illinois 85794<br/>(145) 987-4962</li>\\n<li>Chaney Bennett<br/>P.O. Box 721 902 Dolor Rd.<br/>Fremont AK 19408<br/>(187) 582-9707</li>\\n<li>Daniel Bernard<br/>P.O. Box 567 1561 Duis Rd.<br/>Pomona TN 08609<br/>(750) 558-3965</li>\\n<li>Willow Hunt<br/>Ap #784-1887 Lobortis Ave<br/>Cudahy Ohio 31522<br/>(492) 467-3131</li>\\n<li>Judith Floyd<br/>361-7936 Feugiat St.<br/>Williston Nevada 58521<br/>(774) 914-2510</li>\\n<li>Seth Farley<br/>6216 Aenean Avenue<br/>Seattle Utah 81202<br/>(888) 106-8550</li>\\n<li>Zephania Sanders<br/>3714 Nascetur St.<br/>Hawthorne Louisiana 10626<br/>(539) 567-3573</li>\\n<li>Calista Merritt<br/>Ap #938-5470 Posuere Ave<br/>Chickasha LA 58520<br/>(693) 337-2849</li>\\n<li>Craig Williams<br/>P.O. Box 372 5634 Montes Rd.<br/>Springdale MO 57692<br/>(545) 604-9386</li>\\n<li>Lee Preston<br/>981 Eget Rd.<br/>Clemson GA 04645<br/>(221) 156-5026</li>\\n<li>Katelyn Cooper<br/>6059 Sollicitudin Road<br/>Burlingame Colorado 26278<br/>(414) 876-0865</li>\\n<li>Lacy Eaton<br/>1379 Nulla. Av.<br/>Asbury Park Montana 69679<br/>(932) 726-8645</li>\\n<li>Driscoll Leach<br/>P.O. Box 120 2410 Odio Avenue<br/>Pass Christian Delaware 03869<br/>(726) 710-9826</li>\\n<li>Merritt Watson<br/>P.O. Box 686 7014 Amet Street<br/>Corona Oklahoma 55246<br/>(622) 594-1662</li>\\n<li>Nehru Holmes<br/>P.O. Box 547 4764 Sed Road<br/>Grand Rapids CT 87323<br/>(948) 600-8503</li>\\n<li>Quamar Rivera<br/>427-5827 Ac St.<br/>Schaumburg Arkansas 84872<br/>(605) 900-7508</li>\\n<li>Hiram Mullins<br/>754-6427 Nunc Ave<br/>Kennewick AL 41329<br/>(716) 977-5775</li>\\n<li>Kim Fletcher<br/>Ap #345-3847 Metus Road<br/>Independence CO 30135<br/>(368) 239-8275</li>\\n<li>Rigel Koch<br/>P.O. Box 558 9561 Lacus. Road<br/>Laughlin Hawaii 99602<br/>(725) 342-0650</li>\\n<li>Jeanette Sharpe<br/>Ap #364-2006 Ipsum Avenue<br/>Wilmington Ohio 91750<br/>(711) 993-5187</li>\\n<li>Dahlia Lee<br/>1293 Tincidunt Street<br/>Atwater Pennsylvania 76865<br/>(882) 399-5084</li>\\n<li>Howard Hayden<br/>P.O. Box 847 8019 Facilisis Street<br/>Joliet SC 73490<br/>(287) 755-9948</li>\\n<li>Hyatt Kramer<br/>1011 Massa Av.<br/>Kent ID 63725<br/>(659) 551-3389</li>\\n<li>Sonya Ray<br/>Ap #315-8441 Eleifend Street<br/>Fairbanks RI 96892<br/>(275) 730-6868</li>\\n<li>Cara Whitehead<br/>4005 Praesent St.<br/>Torrance Wyoming 22767<br/>(725) 757-4047</li>\\n<li>Blythe Carroll<br/>7709 Justo. Ave<br/>Princeton TX 77987<br/>(314) 882-1496</li>\\n<li>Dale Griffin<br/>P.O. Box 854 8580 In Ave<br/>Revere South Dakota 43841<br/>(639) 360-7590</li>\\n<li>McKenzie Hernandez<br/>Ap #367-674 Mi Street<br/>Greensboro VT 40684<br/>(168) 222-1592</li>\\n<li>Haviva Holcomb<br/>P.O. Box 642 3450 In Road<br/>Isle of Palms New York 03828<br/>(896) 303-1164</li>\\n<li>Ezra Duffy<br/>Ap #782-7348 Dis Rd.<br/>Austin KY 50710<br/>(203) 982-6130</li>\\n<li>Eleanor Jennings<br/>9631 Semper Ave<br/>Astoria NJ 66309<br/>(906) 217-1470</li>\\n<li>Remedios Hester<br/>487-5787 Mollis St.<br/>City of Industry Louisiana 67973<br/>(614) 514-1269</li>\\n<li>Jasper Carney<br/>1195 Lobortis Rd.<br/>New Orleans New Hampshire 71983<br/>(763) 409-5446</li>\\n<li>Vielka Nielsen<br/>Ap #517-7326 Elementum Rd.<br/>Fort Smith North Dakota 79637<br/>(836) 292-5324</li>\\n<li>Wilma Pace<br/>Ap #676-6532 Odio Rd.<br/>Darlington CO 06963<br/>(926) 709-3295</li>\\n<li>Palmer Gay<br/>557-2026 Purus St.<br/>Watertown TN 07367<br/>(963) 356-9268</li>\\n<li>Lyle Sutton<br/>Ap #250-9843 Elementum St.<br/>South Gate Missouri 68999<br/>(736) 522-8584</li>\\n<li>Ina Burt<br/>Ap #130-1685 Ut Street<br/>Tyler KS 73510<br/>(410) 483-0352</li>\\n<li>Cleo Best<br/>282-8351 Tincidunt Ave<br/>Sedalia Utah 53700<br/>(252) 204-1434</li>\\n<li>Hu Park<br/>1429 Netus Rd.<br/>Reedsport NY 48247<br/>(874) 886-4174</li>\\n<li>Liberty Walton<br/>343-6527 Purus. Avenue<br/>Logan NV 12657<br/>(581) 379-7573</li>\\n<li>Aaron Trujillo<br/>Ap #146-3132 Cras Rd.<br/>Kingsport NH 56618<br/>(983) 632-8597</li>\\n<li>Elmo Lopez<br/>Ap #481-7473 Cum Rd.<br/>Yorba Linda South Carolina 28423<br/>(295) 983-3476</li>\\n<li>Emerson Espinoza<br/>Ap #247-5577 Tincidunt St.<br/>Corpus Christi WI 97020<br/>(873) 392-8802</li>\\n<li>Daniel Malone<br/>2136 Adipiscing Av.<br/>Lima RI 93490<br/>(360) 669-3923</li>\\n<li>Dante Bennett<br/>481-8762 Nulla Street<br/>Dearborn OR 62401<br/>(840) 987-9449</li>\\n<li>Sade Higgins<br/>Ap #287-3260 Ut St.<br/>Wilmington OR 05182<br/>(422) 517-6053</li>\\n<li>Zorita Anderson<br/>1964 Facilisis Avenue<br/>Bell Gardens Texas 87065<br/>(126) 940-2753</li>\\n<li>Jordan Calderon<br/>430-985 Eleifend St.<br/>Duluth Washington 92611<br/>(427) 930-5255</li>\\n<li>Ivor Delgado<br/>Ap #310-1678 Ut Av.<br/>Santa Barbara MT 88317<br/>(689) 721-5145</li>\\n<li>Pascale Patton<br/>P.O. Box 399 4275 Amet Street<br/>West Allis NC 36734<br/>(676) 334-2174</li>\\n<li>Nasim Strong<br/>Ap #630-3889 Nulla. Street<br/>Watervliet Oklahoma 70863<br/>(437) 994-5270</li>\\n<li>Keaton Underwood<br/>Ap #636-8082 Arcu Avenue<br/>Thiensville Maryland 19587<br/>(564) 908-6970</li>\\n<li>Keegan Blair<br/>Ap #761-2515 Egestas. Rd.<br/>Manitowoc TN 07528<br/>(577) 333-6244</li>\\n<li>Tamara Howe<br/>3415 Lobortis. Avenue<br/>Rocky Mount WA 48580<br/>(655) 840-6139</li>\\n </ul> </body></html>\\n'"
      ]
     },
     "execution_count": 2,
     "metadata": {},
     "output_type": "execute_result"
    }
   ],
   "source": [
    "import urllib.request\n",
    "url = 'https://www.summet.com/dmsi/html/codesamples/addresses.html'\n",
    "response = urllib.request.urlopen(url)\n",
    "data = response.read()\n",
    "data = data.decode()\n",
    "data"
   ]
  },
  {
   "cell_type": "code",
   "execution_count": 3,
   "id": "4de7c8a0-e327-4f96-be6c-84e6173c08a0",
   "metadata": {},
   "outputs": [
    {
     "data": {
      "text/plain": [
       "['(257) 563-7401',\n",
       " '(372) 587-2335',\n",
       " '(786) 713-8616',\n",
       " '(793) 151-6230',\n",
       " '(492) 709-6392',\n",
       " '(654) 393-5734',\n",
       " '(404) 960-3807',\n",
       " '(314) 244-6306',\n",
       " '(947) 278-5929',\n",
       " '(684) 579-1879',\n",
       " '(389) 737-2852',\n",
       " '(660) 663-4518',\n",
       " '(608) 265-2215',\n",
       " '(959) 119-8364',\n",
       " '(468) 353-2641',\n",
       " '(248) 675-4007',\n",
       " '(939) 353-1107',\n",
       " '(570) 873-7090',\n",
       " '(302) 259-2375',\n",
       " '(717) 450-4729',\n",
       " '(453) 391-4650',\n",
       " '(559) 104-5475',\n",
       " '(387) 142-9434',\n",
       " '(516) 745-4496',\n",
       " '(326) 677-3419',\n",
       " '(746) 679-2470',\n",
       " '(455) 430-0989',\n",
       " '(490) 936-4694',\n",
       " '(985) 834-8285',\n",
       " '(662) 661-1446',\n",
       " '(802) 668-8240',\n",
       " '(477) 768-9247',\n",
       " '(791) 239-9057',\n",
       " '(832) 109-0213',\n",
       " '(837) 196-3274',\n",
       " '(268) 442-2428',\n",
       " '(850) 676-5117',\n",
       " '(861) 546-5032',\n",
       " '(176) 805-4108',\n",
       " '(715) 912-6931',\n",
       " '(993) 554-0563',\n",
       " '(357) 616-5411',\n",
       " '(121) 347-0086',\n",
       " '(304) 506-6314',\n",
       " '(425) 288-2332',\n",
       " '(145) 987-4962',\n",
       " '(187) 582-9707',\n",
       " '(750) 558-3965',\n",
       " '(492) 467-3131',\n",
       " '(774) 914-2510',\n",
       " '(888) 106-8550',\n",
       " '(539) 567-3573',\n",
       " '(693) 337-2849',\n",
       " '(545) 604-9386',\n",
       " '(221) 156-5026',\n",
       " '(414) 876-0865',\n",
       " '(932) 726-8645',\n",
       " '(726) 710-9826',\n",
       " '(622) 594-1662',\n",
       " '(948) 600-8503',\n",
       " '(605) 900-7508',\n",
       " '(716) 977-5775',\n",
       " '(368) 239-8275',\n",
       " '(725) 342-0650',\n",
       " '(711) 993-5187',\n",
       " '(882) 399-5084',\n",
       " '(287) 755-9948',\n",
       " '(659) 551-3389',\n",
       " '(275) 730-6868',\n",
       " '(725) 757-4047',\n",
       " '(314) 882-1496',\n",
       " '(639) 360-7590',\n",
       " '(168) 222-1592',\n",
       " '(896) 303-1164',\n",
       " '(203) 982-6130',\n",
       " '(906) 217-1470',\n",
       " '(614) 514-1269',\n",
       " '(763) 409-5446',\n",
       " '(836) 292-5324',\n",
       " '(926) 709-3295',\n",
       " '(963) 356-9268',\n",
       " '(736) 522-8584',\n",
       " '(410) 483-0352',\n",
       " '(252) 204-1434',\n",
       " '(874) 886-4174',\n",
       " '(581) 379-7573',\n",
       " '(983) 632-8597',\n",
       " '(295) 983-3476',\n",
       " '(873) 392-8802',\n",
       " '(360) 669-3923',\n",
       " '(840) 987-9449',\n",
       " '(422) 517-6053',\n",
       " '(126) 940-2753',\n",
       " '(427) 930-5255',\n",
       " '(689) 721-5145',\n",
       " '(676) 334-2174',\n",
       " '(437) 994-5270',\n",
       " '(564) 908-6970',\n",
       " '(577) 333-6244',\n",
       " '(655) 840-6139']"
      ]
     },
     "execution_count": 3,
     "metadata": {},
     "output_type": "execute_result"
    }
   ],
   "source": [
    "re.findall('\\(\\d{3}\\) \\d{3}-\\d{4}',data)"
   ]
  }
 ],
 "metadata": {
  "kernelspec": {
   "display_name": "Python 3 (ipykernel)",
   "language": "python",
   "name": "python3"
  },
  "language_info": {
   "codemirror_mode": {
    "name": "ipython",
    "version": 3
   },
   "file_extension": ".py",
   "mimetype": "text/x-python",
   "name": "python",
   "nbconvert_exporter": "python",
   "pygments_lexer": "ipython3",
   "version": "3.11.7"
  }
 },
 "nbformat": 4,
 "nbformat_minor": 5
}
