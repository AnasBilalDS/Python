{
 "cells": [
  {
   "cell_type": "raw",
   "id": "06f8d972-c33d-4183-8502-d4a613713a7b",
   "metadata": {},
   "source": [
    "Lambda function Also known as Nameless function, without nam function, Anonymous function\n",
    "User Defined Functions\n"
   ]
  },
  {
   "cell_type": "code",
   "execution_count": 2,
   "id": "b7e1a1e3-d182-4138-a6ed-ec42c4061ebc",
   "metadata": {},
   "outputs": [],
   "source": [
    "# Write a code using lambda funtion to calculate square of a number#\n",
    "squ=lambda n:n*n"
   ]
  },
  {
   "cell_type": "code",
   "execution_count": 3,
   "id": "ef3847a7-0f7f-4ce9-801f-bacfeef043ac",
   "metadata": {},
   "outputs": [
    {
     "data": {
      "text/plain": [
       "100"
      ]
     },
     "execution_count": 3,
     "metadata": {},
     "output_type": "execute_result"
    }
   ],
   "source": [
    "squ(10)"
   ]
  },
  {
   "cell_type": "code",
   "execution_count": 4,
   "id": "2eac6494-1475-4fd4-a9e1-c0990376f022",
   "metadata": {},
   "outputs": [],
   "source": [
    "add=lambda a,b:a+b"
   ]
  },
  {
   "cell_type": "code",
   "execution_count": 5,
   "id": "655815b5-17bc-49de-9948-d5c5497b253e",
   "metadata": {},
   "outputs": [
    {
     "data": {
      "text/plain": [
       "30"
      ]
     },
     "execution_count": 5,
     "metadata": {},
     "output_type": "execute_result"
    }
   ],
   "source": [
    "add(10,20)"
   ]
  },
  {
   "cell_type": "code",
   "execution_count": 9,
   "id": "ac83b14a-9e01-4903-bf87-12060bfe7841",
   "metadata": {},
   "outputs": [
    {
     "data": {
      "text/plain": [
       "50.0"
      ]
     },
     "execution_count": 9,
     "metadata": {},
     "output_type": "execute_result"
    }
   ],
   "source": [
    "# Write a code to calculate interest #\n",
    "calculate_interest=lambda amount, rate:amount*rate\n",
    "principal=1000\n",
    "interest=0.05\n",
    "calculate_interest(principal,interest)"
   ]
  },
  {
   "cell_type": "code",
   "execution_count": 10,
   "id": "61259266-95f2-48b9-9956-1118ac99f1fc",
   "metadata": {},
   "outputs": [],
   "source": [
    "# Using lambda function do sorting based on account balance from a lsit of account #\n",
    "accounts=[{\"account_num\":1234, \"balance\":5000},\n",
    "          {\"account_num\":4321, \"balance\":3500},\n",
    "          {\"account_num\":9876, \"balance\":6000},\n",
    "          {\"account_num\":2222, \"balance\":10000},\n",
    "          {\"account_num\":3245, \"balance\":1000}]\n",
    "          \n"
   ]
  },
  {
   "cell_type": "code",
   "execution_count": 14,
   "id": "49056ce2-f1e9-4309-92ac-c32c0e07f475",
   "metadata": {},
   "outputs": [
    {
     "name": "stdout",
     "output_type": "stream",
     "text": [
      "[{'account_num': 3245, 'balance': 1000}, {'account_num': 4321, 'balance': 3500}, {'account_num': 1234, 'balance': 5000}, {'account_num': 9876, 'balance': 6000}, {'account_num': 2222, 'balance': 10000}]\n"
     ]
    }
   ],
   "source": [
    "accounts.sort(key=lambda acc:acc[\"balance\"])\n",
    "print(accounts)"
   ]
  },
  {
   "cell_type": "code",
   "execution_count": 17,
   "id": "e796d67d-5f5a-4748-a2f1-51aad1fa76f4",
   "metadata": {},
   "outputs": [
    {
     "name": "stdin",
     "output_type": "stream",
     "text": [
      "Enter the amount:  56\n"
     ]
    },
    {
     "data": {
      "text/plain": [
       "10"
      ]
     },
     "execution_count": 17,
     "metadata": {},
     "output_type": "execute_result"
    }
   ],
   "source": [
    "# Using lambda function calculate transaction fess amount #\n",
    "calculte_fees=lambda amount:10 if amount<500 else 20\n",
    "amount=int(input('Enter the amount: '))\n",
    "calculte_fees(amount)"
   ]
  },
  {
   "cell_type": "code",
   "execution_count": 9,
   "id": "156cf42d-243e-47b3-b561-20db72d86778",
   "metadata": {},
   "outputs": [
    {
     "data": {
      "text/plain": [
       "[10, 20, 30, 40, 50]"
      ]
     },
     "execution_count": 9,
     "metadata": {},
     "output_type": "execute_result"
    }
   ],
   "source": [
    "# Write a code to using lambda function and normal function to find even number from a list of number #\n",
    "num_list=[10,20,25,30,35,40,45,50,51]\n",
    "list(filter(lambda x:x%2==0,num_list))"
   ]
  },
  {
   "cell_type": "code",
   "execution_count": 18,
   "id": "ef8d6651-2469-448b-a9d8-47b03c4f0c40",
   "metadata": {},
   "outputs": [],
   "source": [
    "num_list=[10,20,25,30,35,40,45,50,51]\n",
    "def odd_even(x):\n",
    "    if x%2==0:\n",
    "        True\n",
    "    else:\n",
    "        False"
   ]
  },
  {
   "cell_type": "code",
   "execution_count": 23,
   "id": "7a437063-58f7-4503-8dc8-42a218173ae8",
   "metadata": {},
   "outputs": [
    {
     "data": {
      "text/plain": [
       "[]"
      ]
     },
     "execution_count": 23,
     "metadata": {},
     "output_type": "execute_result"
    }
   ],
   "source": [
    "  list (filter( odd_even,num_list))"
   ]
  },
  {
   "cell_type": "code",
   "execution_count": 16,
   "id": "7a8f0d76-5d74-4075-87af-4860e337ed25",
   "metadata": {},
   "outputs": [
    {
     "data": {
      "text/plain": [
       "[2, 4, 6, 8, 10, 15, 12, 20]"
      ]
     },
     "execution_count": 16,
     "metadata": {},
     "output_type": "execute_result"
    }
   ],
   "source": [
    "num_list"
   ]
  },
  {
   "cell_type": "markdown",
   "id": "f7f76d0a-6036-4ebc-b6c9-8742593fc97d",
   "metadata": {},
   "source": [
    "# reduce #\n"
   ]
  },
  {
   "cell_type": "code",
   "execution_count": 3,
   "id": "211fc05c-d120-457b-9dba-047733b5af4d",
   "metadata": {},
   "outputs": [
    {
     "data": {
      "text/plain": [
       "51"
      ]
     },
     "execution_count": 3,
     "metadata": {},
     "output_type": "execute_result"
    }
   ],
   "source": [
    "num_list=[10,20,25,30,35,40,45,50,51]\n",
    "from functools import *\n",
    "reduce (lambda x,y:max(x,y),num_list)"
   ]
  },
  {
   "cell_type": "code",
   "execution_count": 5,
   "id": "2aecdb49-9ade-4695-9bff-ad5cd70ffdea",
   "metadata": {},
   "outputs": [
    {
     "data": {
      "text/plain": [
       "306"
      ]
     },
     "execution_count": 5,
     "metadata": {},
     "output_type": "execute_result"
    }
   ],
   "source": [
    "# Using lambda function find addition from a list of number #\n",
    "reduce(lambda x,y:(x+y),num_list)"
   ]
  },
  {
   "cell_type": "code",
   "execution_count": 6,
   "id": "d8cffc2f-0f56-49cc-8040-4fe36ac1a82d",
   "metadata": {},
   "outputs": [
    {
     "name": "stdout",
     "output_type": "stream",
     "text": [
      "51\n",
      "51\n",
      "51\n",
      "51\n",
      "51\n",
      "51\n",
      "51\n",
      "51\n",
      "51\n"
     ]
    }
   ],
   "source": [
    "num_list=[10,20,25,30,35,40,45,50,51]\n",
    "for i in num_list:\n",
    "    print (max(num_list))"
   ]
  },
  {
   "cell_type": "code",
   "execution_count": 21,
   "id": "6cd59a43-61c1-44f8-8c96-521a7af078e5",
   "metadata": {},
   "outputs": [],
   "source": [
    "# Write a code using lambda function to find square of a number #\n",
    "list_nm = [10,11,14,21,23,32,33,22]"
   ]
  },
  {
   "cell_type": "code",
   "execution_count": 26,
   "id": "3c4e70f3-0600-4c7f-be5a-5079aaf96484",
   "metadata": {},
   "outputs": [
    {
     "data": {
      "text/plain": [
       "<map at 0x24b79f95330>"
      ]
     },
     "execution_count": 26,
     "metadata": {},
     "output_type": "execute_result"
    }
   ],
   "source": [
    "list"
   ]
  },
  {
   "cell_type": "code",
   "execution_count": 29,
   "id": "b7cb3680-93c2-483a-8197-fc25b9430110",
   "metadata": {},
   "outputs": [
    {
     "data": {
      "text/plain": [
       "[10, 11, 14, 21, 23, 32, 33, 22]"
      ]
     },
     "execution_count": 29,
     "metadata": {},
     "output_type": "execute_result"
    }
   ],
   "source": [
    "list_nm"
   ]
  },
  {
   "cell_type": "code",
   "execution_count": 52,
   "id": "fb0c967f-d56e-4f18-8200-ae458c88096a",
   "metadata": {},
   "outputs": [],
   "source": [
    "list_nm = [10,11,14,21,23,32,33,22]\n",
    "def square(x):\n",
    "    print (x*x)"
   ]
  },
  {
   "cell_type": "code",
   "execution_count": 54,
   "id": "35861b30-820e-4385-8e0a-7e55999764f4",
   "metadata": {},
   "outputs": [
    {
     "name": "stdout",
     "output_type": "stream",
     "text": [
      "100\n"
     ]
    }
   ],
   "source": [
    "square(10)"
   ]
  },
  {
   "cell_type": "code",
   "execution_count": 63,
   "id": "df34c40d-e439-4c9a-bdde-3ae3297960af",
   "metadata": {},
   "outputs": [
    {
     "name": "stdout",
     "output_type": "stream",
     "text": [
      "<function square_list at 0x0000024B7AB474C0>\n"
     ]
    }
   ],
   "source": [
    "list_nm = [10,11,14,21,23,32,33,22]\n",
    "def square_list ():\n",
    "    for i in list_nm:\n",
    "        square_list.append(number**2)\n",
    "print (square_list)"
   ]
  },
  {
   "cell_type": "markdown",
   "id": "1e28ffeb-573b-49ef-b31e-6256157b4275",
   "metadata": {},
   "source": [
    "# Nested functions () function within a function #"
   ]
  },
  {
   "cell_type": "code",
   "execution_count": 9,
   "id": "ab3f6d38-ec17-4a63-a09c-e3ad4077c38e",
   "metadata": {},
   "outputs": [
    {
     "name": "stdout",
     "output_type": "stream",
     "text": [
      "Outer function is running\n",
      "Inner function is running\n"
     ]
    }
   ],
   "source": [
    "def outer():\n",
    "    print('Outer function is running')\n",
    "def inner():\n",
    "        print('Inner function is running')\n",
    "\n",
    "outer()\n",
    "inner()"
   ]
  },
  {
   "cell_type": "code",
   "execution_count": null,
   "id": "d05a4b33-00e9-449f-a444-7b00f1794cd0",
   "metadata": {},
   "outputs": [],
   "source": [
    "# Write a code using nested function for a calculator() #"
   ]
  },
  {
   "cell_type": "code",
   "execution_count": null,
   "id": "5d9f8edf-3855-41cf-a306-7aaffdbbd994",
   "metadata": {},
   "outputs": [],
   "source": [
    "def calculator():\n",
    "    def add(num1,num2):\n",
    "        return (num1 + num2)\n",
    "    def sub(num1,num2):\n",
    "        return (num1 - num2)\n",
    "    def mul(num1,num2):\n",
    "        return (num1 * num2)\n",
    "    def div(num1,num2):\n",
    "        return (num1 % num2)\n",
    "    num1= int(input('Enter the number 1'))\n",
    "    num2= int(input('Enter the number2'))\n",
    "    operation=input('Enter the operation type')\n",
    "\n",
    "    if operation=='add':\n",
    "        print('Addition is ', add(num1,num2))\n",
    "    else:\n",
    "        print('Hi')"
   ]
  },
  {
   "cell_type": "code",
   "execution_count": 21,
   "id": "1f797255-5690-4286-bb77-384440ebc02a",
   "metadata": {},
   "outputs": [],
   "source": [
    "def calculator():\n",
    "    def add(num1,num2):\n",
    "        return (num1 + num2)\n",
    "    def sub(num1,num2):\n",
    "        return (num1 - num2)\n",
    "    def mul(num1,num2):\n",
    "        return (num1 * num2)\n",
    "    def div(num1,num2):\n",
    "        return (num1 % num2)\n",
    "    num1= int(input('Enter the number 1'))\n",
    "    num2= int(input('Enter the number2'))\n",
    "    operation=input('Enter the operation type')\n",
    "\n",
    "    if operation=='add':\n",
    "        print('Addition is ', add(num1,num2))\n",
    "    elif operation=='sub':\n",
    "        print('Subtraction is: ',sub(num1,num2))\n",
    "    else:\n",
    "        print('Hi')"
   ]
  },
  {
   "cell_type": "code",
   "execution_count": 22,
   "id": "8a1b088d-1162-4dc4-a7d5-ce63c3be3922",
   "metadata": {},
   "outputs": [
    {
     "name": "stdin",
     "output_type": "stream",
     "text": [
      "Enter the number 1 45\n",
      "Enter the number2 56\n",
      "Enter the operation type sub\n"
     ]
    },
    {
     "name": "stdout",
     "output_type": "stream",
     "text": [
      "Subtraction is:  -11\n"
     ]
    }
   ],
   "source": [
    "calculator()"
   ]
  },
  {
   "cell_type": "code",
   "execution_count": 23,
   "id": "7b6faf76-5b15-4f3d-b78a-614db89590d4",
   "metadata": {},
   "outputs": [],
   "source": [
    "def voting_eligibility_age(age):\n",
    "    def eligibility_age():\n",
    "        return age>=18\n",
    "    if eligibility_age():\n",
    "        print('You are eligible to vote')\n",
    "    else:\n",
    "        print('You are not eligible to vote')\n",
    "    "
   ]
  },
  {
   "cell_type": "code",
   "execution_count": 24,
   "id": "64c18b58-deb7-4e71-be77-bc16ef8488bf",
   "metadata": {},
   "outputs": [
    {
     "name": "stdout",
     "output_type": "stream",
     "text": [
      "You are not eligible to vote\n"
     ]
    }
   ],
   "source": [
    "voting_eligibility_age(16)"
   ]
  },
  {
   "cell_type": "code",
   "execution_count": 25,
   "id": "0535df9f-2493-474e-a1bf-55b8edad9d97",
   "metadata": {},
   "outputs": [
    {
     "name": "stdout",
     "output_type": "stream",
     "text": [
      "You are eligible to vote\n"
     ]
    }
   ],
   "source": [
    "voting_eligibility_age(18.1)"
   ]
  },
  {
   "cell_type": "code",
   "execution_count": 32,
   "id": "07575183-b37e-4192-8645-23e45d523a94",
   "metadata": {},
   "outputs": [
    {
     "name": "stdin",
     "output_type": "stream",
     "text": [
      "Enter the amount  1000\n",
      "Enter the rate  83\n"
     ]
    },
    {
     "name": "stdout",
     "output_type": "stream",
     "text": [
      "Net Amount : 83000\n"
     ]
    }
   ],
   "source": [
    "# Write a code for currency conversion #\n",
    "amount=int(input('Enter the amount '))\n",
    "rate=int(input('Enter the rate '))\n",
    "net_amount=amount*rate\n",
    "print('Net Amount :',net_amount)\n"
   ]
  },
  {
   "cell_type": "code",
   "execution_count": 40,
   "id": "64ae8256-857e-4762-9c1f-b8c1407cdde4",
   "metadata": {},
   "outputs": [],
   "source": [
    "def currency_conversation(amount,rate):\n",
    "    def apply_conversion():\n",
    "        return(amount*rate)\n",
    "        \n",
    "    converted_amount=apply_conversion()\n",
    "    print(converted_amount)\n",
    "    "
   ]
  },
  {
   "cell_type": "code",
   "execution_count": 42,
   "id": "efb74897-e114-486d-ab17-1977bfae417f",
   "metadata": {},
   "outputs": [
    {
     "name": "stdout",
     "output_type": "stream",
     "text": [
      "83000\n"
     ]
    }
   ],
   "source": [
    "currency_conversation(1000,83)"
   ]
  },
  {
   "cell_type": "code",
   "execution_count": 62,
   "id": "75dcbe6e-dade-45d0-a102-b37e4afdc6f4",
   "metadata": {},
   "outputs": [],
   "source": [
    "# Write a pythond code for generating 6 digit captcha #\n",
    "import random\n",
    "\n",
    "def generate_captcha():\n",
    "    def generate_random_digit():\n",
    "        return random.randint(0,9)\n",
    "\n",
    "    def generate_random_lletter():\n",
    "        return chr(random.randint(97,122))\n",
    "\n",
    "    def generate_random_uletter():\n",
    "        return chr(random.randint(65,90))\n",
    "\n",
    "    captcha=\"\"\n",
    "    for i in range(0,6):\n",
    "        output= random.choice(['Number','LowerChar','UpperChar'])\n",
    "        if output=='Number':\n",
    "            captcha=captcha+str(generate_random_digit())\n",
    "        elif output=='UpperChar':\n",
    "            captcha=captcha+str(generate_random_uletter())\n",
    "        else:\n",
    "            captcha=captcha+str(generate_random_lletter())\n",
    "\n",
    "    print(\"Generated Captcha: \" , captcha)\n",
    "            \n"
   ]
  },
  {
   "cell_type": "code",
   "execution_count": 67,
   "id": "311c58d1-997b-4387-b268-298ec04dd469",
   "metadata": {},
   "outputs": [
    {
     "name": "stdout",
     "output_type": "stream",
     "text": [
      "Generated Captcha:  W6eaZr\n"
     ]
    }
   ],
   "source": [
    "generate_captcha()"
   ]
  }
 ],
 "metadata": {
  "kernelspec": {
   "display_name": "Python 3 (ipykernel)",
   "language": "python",
   "name": "python3"
  },
  "language_info": {
   "codemirror_mode": {
    "name": "ipython",
    "version": 3
   },
   "file_extension": ".py",
   "mimetype": "text/x-python",
   "name": "python",
   "nbconvert_exporter": "python",
   "pygments_lexer": "ipython3",
   "version": "3.11.7"
  }
 },
 "nbformat": 4,
 "nbformat_minor": 5
}
