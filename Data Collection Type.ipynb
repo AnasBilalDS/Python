{
 "cells": [
  {
   "cell_type": "markdown",
   "id": "81384ace-653d-4d45-b1b7-86224911c028",
   "metadata": {},
   "source": [
    "list"
   ]
  },
  {
   "cell_type": "code",
   "execution_count": 1,
   "id": "429c2d99-9dd5-414a-b538-414a095cb403",
   "metadata": {},
   "outputs": [],
   "source": [
    "# Memory location of a nd c will be same#\n",
    "a=-5"
   ]
  },
  {
   "cell_type": "code",
   "execution_count": 2,
   "id": "87325911-f8db-4149-95a3-3d0b8ef96df0",
   "metadata": {},
   "outputs": [],
   "source": [
    "b=256"
   ]
  },
  {
   "cell_type": "code",
   "execution_count": 3,
   "id": "a04eda7e-4d7e-4d76-a135-4c21a720fb0c",
   "metadata": {},
   "outputs": [
    {
     "data": {
      "text/plain": [
       "140725464711784"
      ]
     },
     "execution_count": 3,
     "metadata": {},
     "output_type": "execute_result"
    }
   ],
   "source": [
    "id(a)"
   ]
  },
  {
   "cell_type": "code",
   "execution_count": 4,
   "id": "ee292c42-83f0-4fba-a350-f598a31cc911",
   "metadata": {},
   "outputs": [
    {
     "data": {
      "text/plain": [
       "140725464720136"
      ]
     },
     "execution_count": 4,
     "metadata": {},
     "output_type": "execute_result"
    }
   ],
   "source": [
    "id(b)"
   ]
  },
  {
   "cell_type": "code",
   "execution_count": 5,
   "id": "460f25e9-98bd-4131-a232-9cf90ed76888",
   "metadata": {},
   "outputs": [],
   "source": [
    "c=-5"
   ]
  },
  {
   "cell_type": "code",
   "execution_count": 6,
   "id": "4d0c46b6-b34c-4acc-af54-f867ed1b26c4",
   "metadata": {
    "scrolled": true
   },
   "outputs": [
    {
     "data": {
      "text/plain": [
       "140725464711784"
      ]
     },
     "execution_count": 6,
     "metadata": {},
     "output_type": "execute_result"
    }
   ],
   "source": [
    "id(c)"
   ]
  },
  {
   "cell_type": "code",
   "execution_count": 34,
   "id": "399a0134-5f94-4d68-beb4-85d5a0340e06",
   "metadata": {},
   "outputs": [],
   "source": [
    "ages=[1,4,6,10,11,25,27]"
   ]
  },
  {
   "cell_type": "code",
   "execution_count": 12,
   "id": "3f49447d-4770-4942-90b7-caec30ad2bfd",
   "metadata": {},
   "outputs": [
    {
     "data": {
      "text/plain": [
       "[1, 4, 6, 10, 11, 25, 27]"
      ]
     },
     "execution_count": 12,
     "metadata": {},
     "output_type": "execute_result"
    }
   ],
   "source": [
    "ages"
   ]
  },
  {
   "cell_type": "code",
   "execution_count": 15,
   "id": "c935adbb-cc5c-4a66-b3d5-2b1d2c87eb32",
   "metadata": {},
   "outputs": [],
   "source": [
    "ages.append(656)"
   ]
  },
  {
   "cell_type": "code",
   "execution_count": 20,
   "id": "7215cce0-3553-419d-9410-b54f9b21e0b9",
   "metadata": {},
   "outputs": [
    {
     "data": {
      "text/plain": [
       "[1, 4, 6, 10, 11, 25, 27, 656, [9, 10, 11]]"
      ]
     },
     "execution_count": 20,
     "metadata": {},
     "output_type": "execute_result"
    }
   ],
   "source": [
    "ages"
   ]
  },
  {
   "cell_type": "code",
   "execution_count": 19,
   "id": "dfbafac5-373a-4bd7-b00b-0c1ad93edd87",
   "metadata": {},
   "outputs": [],
   "source": [
    "ages.append([9,10,11])"
   ]
  },
  {
   "cell_type": "code",
   "execution_count": 21,
   "id": "13b33c58-4a84-4153-a768-81f7af526895",
   "metadata": {},
   "outputs": [
    {
     "data": {
      "text/plain": [
       "[9, 10, 11]"
      ]
     },
     "execution_count": 21,
     "metadata": {},
     "output_type": "execute_result"
    }
   ],
   "source": [
    "ages[-1]"
   ]
  },
  {
   "cell_type": "code",
   "execution_count": 22,
   "id": "9e31fb95-6ce6-40a3-90f1-ebbdb9c43516",
   "metadata": {},
   "outputs": [
    {
     "data": {
      "text/plain": [
       "[9, 10, 11]"
      ]
     },
     "execution_count": 22,
     "metadata": {},
     "output_type": "execute_result"
    }
   ],
   "source": [
    "ages.pop()"
   ]
  },
  {
   "cell_type": "code",
   "execution_count": 25,
   "id": "02cc0778-9e3d-4715-b716-3ff96007d995",
   "metadata": {},
   "outputs": [],
   "source": [
    "del ages"
   ]
  },
  {
   "cell_type": "code",
   "execution_count": 28,
   "id": "1eabb4f9-ae40-45a0-8a67-d896270c5956",
   "metadata": {
    "scrolled": true
   },
   "outputs": [
    {
     "data": {
      "text/plain": [
       "[1, 4, 6, 10, 11, 25, 27]"
      ]
     },
     "execution_count": 28,
     "metadata": {},
     "output_type": "execute_result"
    }
   ],
   "source": [
    "ages"
   ]
  },
  {
   "cell_type": "code",
   "execution_count": 29,
   "id": "fa1387fc-8544-492a-a7bd-a58ec4fb729a",
   "metadata": {},
   "outputs": [],
   "source": [
    "ages.extend([100,10,11,13,14])"
   ]
  },
  {
   "cell_type": "code",
   "execution_count": 30,
   "id": "e77eb89c-173f-4798-8d67-423648298e8f",
   "metadata": {},
   "outputs": [
    {
     "data": {
      "text/plain": [
       "[1, 4, 6, 10, 11, 25, 27, 100, 10, 11, 13, 14]"
      ]
     },
     "execution_count": 30,
     "metadata": {},
     "output_type": "execute_result"
    }
   ],
   "source": [
    "ages"
   ]
  },
  {
   "cell_type": "code",
   "execution_count": 31,
   "id": "9a78d457-f3f6-483f-943b-914364d71f5c",
   "metadata": {},
   "outputs": [],
   "source": [
    "ages.clear()"
   ]
  },
  {
   "cell_type": "code",
   "execution_count": 33,
   "id": "41645af4-859f-40e3-896c-006ef6c2d4a9",
   "metadata": {},
   "outputs": [
    {
     "data": {
      "text/plain": [
       "list"
      ]
     },
     "execution_count": 33,
     "metadata": {},
     "output_type": "execute_result"
    }
   ],
   "source": [
    "type(ages)"
   ]
  },
  {
   "cell_type": "code",
   "execution_count": 36,
   "id": "a23dcef3-132a-43bb-9c5d-24338481ef20",
   "metadata": {},
   "outputs": [],
   "source": [
    "ages1=ages.copy()"
   ]
  },
  {
   "cell_type": "code",
   "execution_count": 38,
   "id": "ad0e38f4-6035-4691-8fd8-c532bdc8511f",
   "metadata": {},
   "outputs": [
    {
     "data": {
      "text/plain": [
       "2813046280896"
      ]
     },
     "execution_count": 38,
     "metadata": {},
     "output_type": "execute_result"
    }
   ],
   "source": [
    "id(ages1)"
   ]
  },
  {
   "cell_type": "code",
   "execution_count": 39,
   "id": "0f7e7609-e50d-495f-94d9-e4ac65caa5e8",
   "metadata": {
    "scrolled": true
   },
   "outputs": [
    {
     "data": {
      "text/plain": [
       "2813046182336"
      ]
     },
     "execution_count": 39,
     "metadata": {},
     "output_type": "execute_result"
    }
   ],
   "source": [
    "id(ages)"
   ]
  },
  {
   "cell_type": "code",
   "execution_count": 40,
   "id": "28403021-55b8-4846-8055-050b06c744ea",
   "metadata": {},
   "outputs": [],
   "source": [
    "ages2=ages"
   ]
  },
  {
   "cell_type": "code",
   "execution_count": 41,
   "id": "4c91518d-ca1b-493f-8b5d-50228dee7373",
   "metadata": {},
   "outputs": [
    {
     "data": {
      "text/plain": [
       "2813046182336"
      ]
     },
     "execution_count": 41,
     "metadata": {},
     "output_type": "execute_result"
    }
   ],
   "source": [
    "id(ages2)"
   ]
  },
  {
   "cell_type": "code",
   "execution_count": 51,
   "id": "385029e8-0713-47e9-a71b-1c8ff34bae18",
   "metadata": {},
   "outputs": [],
   "source": [
    "ages.remove(1)"
   ]
  },
  {
   "cell_type": "code",
   "execution_count": 47,
   "id": "42156505-acd8-45b3-b753-c6d3f1f08f5e",
   "metadata": {},
   "outputs": [
    {
     "data": {
      "text/plain": [
       "[1, 4, 6, 10, 11, 25]"
      ]
     },
     "execution_count": 47,
     "metadata": {},
     "output_type": "execute_result"
    }
   ],
   "source": [
    "ages"
   ]
  },
  {
   "cell_type": "code",
   "execution_count": 52,
   "id": "4bafc821-f208-45ed-a30f-c4117db291b7",
   "metadata": {},
   "outputs": [],
   "source": [
    "ages.insert(0,9)"
   ]
  },
  {
   "cell_type": "code",
   "execution_count": 53,
   "id": "5a8c2e00-e57b-4f88-a95b-62f41a3e1e88",
   "metadata": {},
   "outputs": [
    {
     "data": {
      "text/plain": [
       "[9, 4, 6, 40, 10, 11, 25]"
      ]
     },
     "execution_count": 53,
     "metadata": {},
     "output_type": "execute_result"
    }
   ],
   "source": [
    "ages"
   ]
  },
  {
   "cell_type": "code",
   "execution_count": 54,
   "id": "be7eafae-89a7-4b15-a7e6-9a953d462305",
   "metadata": {},
   "outputs": [],
   "source": [
    "ages.sort()"
   ]
  },
  {
   "cell_type": "code",
   "execution_count": 57,
   "id": "f363a8ca-19f8-4194-adb4-2dc1fd20abf0",
   "metadata": {},
   "outputs": [],
   "source": [
    "ages.sort(reverse=True)"
   ]
  },
  {
   "cell_type": "code",
   "execution_count": 58,
   "id": "4d1dbac6-f8a2-48ab-876d-834056a3d1d2",
   "metadata": {},
   "outputs": [
    {
     "data": {
      "text/plain": [
       "[40, 25, 11, 10, 9, 6, 4]"
      ]
     },
     "execution_count": 58,
     "metadata": {},
     "output_type": "execute_result"
    }
   ],
   "source": [
    "ages"
   ]
  },
  {
   "cell_type": "code",
   "execution_count": 64,
   "id": "9a4050ed-af33-456d-b11b-5c978c79189c",
   "metadata": {},
   "outputs": [],
   "source": [
    "lis=['A',1,True,10.5]"
   ]
  },
  {
   "cell_type": "code",
   "execution_count": 62,
   "id": "13922739-23bc-429d-bc75-eb3a72c90698",
   "metadata": {},
   "outputs": [],
   "source": [
    "del lis"
   ]
  },
  {
   "cell_type": "code",
   "execution_count": 65,
   "id": "ea7ec2d6-a187-4c36-b243-a3a6e2668a73",
   "metadata": {},
   "outputs": [
    {
     "data": {
      "text/plain": [
       "['A', 1, True, 10.5]"
      ]
     },
     "execution_count": 65,
     "metadata": {},
     "output_type": "execute_result"
    }
   ],
   "source": [
    "lis"
   ]
  },
  {
   "cell_type": "markdown",
   "id": "27e4b119-19c9-4bad-b088-3f98307fb2c7",
   "metadata": {},
   "source": [
    "Tuples"
   ]
  },
  {
   "cell_type": "code",
   "execution_count": 2,
   "id": "89b8985e-5cc5-4b5a-b3a9-98076d3c0b9f",
   "metadata": {},
   "outputs": [],
   "source": [
    "tupple1=(10,20,30,40,40)"
   ]
  },
  {
   "cell_type": "code",
   "execution_count": 3,
   "id": "b753ae20-e3df-4007-9009-b7401e6a89e7",
   "metadata": {},
   "outputs": [
    {
     "data": {
      "text/plain": [
       "(10, 20, 30, 40, 40)"
      ]
     },
     "execution_count": 3,
     "metadata": {},
     "output_type": "execute_result"
    }
   ],
   "source": [
    "tupple1"
   ]
  },
  {
   "cell_type": "code",
   "execution_count": 4,
   "id": "dcaeff5a-5284-4e5d-ac7c-3c37be4274a0",
   "metadata": {},
   "outputs": [],
   "source": [
    "a=list(tupple1)"
   ]
  },
  {
   "cell_type": "code",
   "execution_count": 5,
   "id": "da5d125e-a599-46eb-8595-4cb5a837be6c",
   "metadata": {},
   "outputs": [
    {
     "data": {
      "text/plain": [
       "list"
      ]
     },
     "execution_count": 5,
     "metadata": {},
     "output_type": "execute_result"
    }
   ],
   "source": [
    "type(a)"
   ]
  },
  {
   "cell_type": "code",
   "execution_count": 6,
   "id": "77e40210-c273-4545-b7f8-7ebed733ff58",
   "metadata": {},
   "outputs": [],
   "source": [
    "a[0]=22"
   ]
  },
  {
   "cell_type": "code",
   "execution_count": 7,
   "id": "d4be5f39-b9f8-4867-90df-40cacb8c546a",
   "metadata": {},
   "outputs": [
    {
     "data": {
      "text/plain": [
       "[22, 20, 30, 40, 40]"
      ]
     },
     "execution_count": 7,
     "metadata": {},
     "output_type": "execute_result"
    }
   ],
   "source": [
    "a"
   ]
  },
  {
   "cell_type": "code",
   "execution_count": 11,
   "id": "e5a2cf55-9e19-4625-b344-09ec9885c7b3",
   "metadata": {},
   "outputs": [],
   "source": [
    "tupple1=tuple(a)"
   ]
  },
  {
   "cell_type": "code",
   "execution_count": 12,
   "id": "ee059d50-1d5c-48d3-93d8-8085643531c7",
   "metadata": {},
   "outputs": [
    {
     "data": {
      "text/plain": [
       "(22, 20, 30, 40, 40)"
      ]
     },
     "execution_count": 12,
     "metadata": {},
     "output_type": "execute_result"
    }
   ],
   "source": [
    "tupple1"
   ]
  },
  {
   "cell_type": "code",
   "execution_count": 10,
   "id": "df00aa15-b8f0-4e4b-8355-729025ae9987",
   "metadata": {},
   "outputs": [
    {
     "data": {
      "text/plain": [
       "[22, 20, 30, 40, 40]"
      ]
     },
     "execution_count": 10,
     "metadata": {},
     "output_type": "execute_result"
    }
   ],
   "source": [
    "a"
   ]
  },
  {
   "cell_type": "code",
   "execution_count": 13,
   "id": "4c5fb10d-bf2a-4081-ab1f-cd5552c15bd1",
   "metadata": {},
   "outputs": [
    {
     "data": {
      "text/plain": [
       "[22, 20, 30, 40, 40]"
      ]
     },
     "execution_count": 13,
     "metadata": {},
     "output_type": "execute_result"
    }
   ],
   "source": [
    "a"
   ]
  },
  {
   "cell_type": "markdown",
   "id": "cc8b0842-4588-4841-9a1f-5ae2d4899325",
   "metadata": {},
   "source": [
    "Dictionary"
   ]
  },
  {
   "cell_type": "code",
   "execution_count": 31,
   "id": "6a1bef40-a493-44fd-ab0d-03a1d4bb6019",
   "metadata": {},
   "outputs": [],
   "source": [
    "studetails={'sname':['A','B','C'],'sid':[1,2,3]}"
   ]
  },
  {
   "cell_type": "code",
   "execution_count": 15,
   "id": "c8cb148f-daa8-4d83-9862-818abb29dbe0",
   "metadata": {},
   "outputs": [
    {
     "data": {
      "text/plain": [
       "{'sname': ['A', 'B', 'C'], 'sid': [1, 2, 3]}"
      ]
     },
     "execution_count": 15,
     "metadata": {},
     "output_type": "execute_result"
    }
   ],
   "source": [
    "studetails"
   ]
  },
  {
   "cell_type": "code",
   "execution_count": 16,
   "id": "e9272dc4-7add-4748-874f-0b0f742a0f6b",
   "metadata": {},
   "outputs": [
    {
     "data": {
      "text/plain": [
       "2"
      ]
     },
     "execution_count": 16,
     "metadata": {},
     "output_type": "execute_result"
    }
   ],
   "source": [
    "len(studetails)"
   ]
  },
  {
   "cell_type": "code",
   "execution_count": 18,
   "id": "4cee4b66-41b4-475b-b12b-ef12968d9859",
   "metadata": {},
   "outputs": [
    {
     "data": {
      "text/plain": [
       "['A', 'B', 'C']"
      ]
     },
     "execution_count": 18,
     "metadata": {},
     "output_type": "execute_result"
    }
   ],
   "source": [
    "studetails['sname']"
   ]
  },
  {
   "cell_type": "code",
   "execution_count": 24,
   "id": "1afb59c3-7fd3-4adc-9df2-72d52d506b06",
   "metadata": {},
   "outputs": [],
   "source": [
    "import pandas as pd\n"
   ]
  },
  {
   "cell_type": "code",
   "execution_count": 25,
   "id": "284efacf-c56a-4bd0-9f2f-92577f0f58b7",
   "metadata": {},
   "outputs": [
    {
     "data": {
      "text/html": [
       "<div>\n",
       "<style scoped>\n",
       "    .dataframe tbody tr th:only-of-type {\n",
       "        vertical-align: middle;\n",
       "    }\n",
       "\n",
       "    .dataframe tbody tr th {\n",
       "        vertical-align: top;\n",
       "    }\n",
       "\n",
       "    .dataframe thead th {\n",
       "        text-align: right;\n",
       "    }\n",
       "</style>\n",
       "<table border=\"1\" class=\"dataframe\">\n",
       "  <thead>\n",
       "    <tr style=\"text-align: right;\">\n",
       "      <th></th>\n",
       "      <th>sname</th>\n",
       "      <th>sid</th>\n",
       "    </tr>\n",
       "  </thead>\n",
       "  <tbody>\n",
       "    <tr>\n",
       "      <th>0</th>\n",
       "      <td>A</td>\n",
       "      <td>1</td>\n",
       "    </tr>\n",
       "    <tr>\n",
       "      <th>1</th>\n",
       "      <td>B</td>\n",
       "      <td>2</td>\n",
       "    </tr>\n",
       "    <tr>\n",
       "      <th>2</th>\n",
       "      <td>C</td>\n",
       "      <td>3</td>\n",
       "    </tr>\n",
       "  </tbody>\n",
       "</table>\n",
       "</div>"
      ],
      "text/plain": [
       "  sname  sid\n",
       "0     A    1\n",
       "1     B    2\n",
       "2     C    3"
      ]
     },
     "execution_count": 25,
     "metadata": {},
     "output_type": "execute_result"
    }
   ],
   "source": [
    "pd.DataFrame(studetails)"
   ]
  },
  {
   "cell_type": "code",
   "execution_count": 27,
   "id": "cc58a7b8-bbf0-46c8-9903-0463c47f22b2",
   "metadata": {},
   "outputs": [],
   "source": [
    "studetails.clear()"
   ]
  },
  {
   "cell_type": "code",
   "execution_count": 32,
   "id": "a5c061ab-ad36-41e9-a2d1-b25a01f7a371",
   "metadata": {},
   "outputs": [
    {
     "data": {
      "text/plain": [
       "{'sname': ['A', 'B', 'C'], 'sid': [1, 2, 3]}"
      ]
     },
     "execution_count": 32,
     "metadata": {},
     "output_type": "execute_result"
    }
   ],
   "source": [
    "studetails"
   ]
  },
  {
   "cell_type": "code",
   "execution_count": 37,
   "id": "51399ccd-958d-4094-8f64-11994fa07133",
   "metadata": {},
   "outputs": [
    {
     "data": {
      "text/plain": [
       "dict_items([('sname', ['A', 'B', 'C']), ('sid', [1, 2, 3])])"
      ]
     },
     "execution_count": 37,
     "metadata": {},
     "output_type": "execute_result"
    }
   ],
   "source": [
    "studetails.items()"
   ]
  },
  {
   "cell_type": "code",
   "execution_count": 38,
   "id": "90c0cccc-6c7d-4dd5-9d2a-3fdb910275b2",
   "metadata": {},
   "outputs": [],
   "source": [
    "dict1={1:3,2:5,3:7}\n",
    "dict2={1:7,2:4,3:8}"
   ]
  },
  {
   "cell_type": "code",
   "execution_count": 39,
   "id": "9af034f5-7dbb-4f51-a2b3-5403f0842cec",
   "metadata": {},
   "outputs": [
    {
     "data": {
      "text/plain": [
       "{1: 3, 2: 5, 3: 7}"
      ]
     },
     "execution_count": 39,
     "metadata": {},
     "output_type": "execute_result"
    }
   ],
   "source": [
    "dict1"
   ]
  },
  {
   "cell_type": "code",
   "execution_count": 40,
   "id": "7ec0ef12-870b-4ea6-bc91-74331e599e36",
   "metadata": {},
   "outputs": [
    {
     "data": {
      "text/plain": [
       "{1: 7, 2: 4, 3: 8}"
      ]
     },
     "execution_count": 40,
     "metadata": {},
     "output_type": "execute_result"
    }
   ],
   "source": [
    "dict2"
   ]
  },
  {
   "cell_type": "code",
   "execution_count": 41,
   "id": "0f123433-3e73-49f4-90d5-4ba0c381c015",
   "metadata": {},
   "outputs": [],
   "source": [
    "dict1.update(dict2)"
   ]
  },
  {
   "cell_type": "code",
   "execution_count": 42,
   "id": "b6ac4e90-aae3-4944-8f05-7948f2ecd735",
   "metadata": {},
   "outputs": [
    {
     "data": {
      "text/plain": [
       "{1: 7, 2: 4, 3: 8}"
      ]
     },
     "execution_count": 42,
     "metadata": {},
     "output_type": "execute_result"
    }
   ],
   "source": [
    "dict1"
   ]
  },
  {
   "cell_type": "markdown",
   "id": "74edbedf-1281-4bfa-be6e-59fc293ed3cf",
   "metadata": {},
   "source": [
    "Sets"
   ]
  },
  {
   "cell_type": "code",
   "execution_count": null,
   "id": "2118bc18-fd65-4de6-93ad-8a5d3698c621",
   "metadata": {},
   "outputs": [],
   "source": [
    "#Properties of Sets are\n",
    "    1) Insertion order is preserved - No (Data will always be sorted)\n",
    "    2) Duplicates are allowed - No\n",
    "    3) Heterogeneous data allowed - Yes\n",
    "    5) Sets are always enclosed in the curly bracket\n",
    "    6) Mutable in nature\n",
    "    7) Does not support index#"
   ]
  },
  {
   "cell_type": "code",
   "execution_count": null,
   "id": "f6d24862-4dcc-470f-827a-c54d28f88408",
   "metadata": {},
   "outputs": [],
   "source": []
  },
  {
   "cell_type": "code",
   "execution_count": null,
   "id": "c13ebfa6-a74e-4ccf-873a-11794ab2421b",
   "metadata": {},
   "outputs": [],
   "source": []
  },
  {
   "cell_type": "code",
   "execution_count": null,
   "id": "31f8aee8-2480-4655-b618-8f3def854078",
   "metadata": {},
   "outputs": [],
   "source": []
  }
 ],
 "metadata": {
  "kernelspec": {
   "display_name": "Python 3 (ipykernel)",
   "language": "python",
   "name": "python3"
  },
  "language_info": {
   "codemirror_mode": {
    "name": "ipython",
    "version": 3
   },
   "file_extension": ".py",
   "mimetype": "text/x-python",
   "name": "python",
   "nbconvert_exporter": "python",
   "pygments_lexer": "ipython3",
   "version": "3.11.7"
  }
 },
 "nbformat": 4,
 "nbformat_minor": 5
}
