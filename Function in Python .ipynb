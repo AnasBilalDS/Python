{
 "cells": [
  {
   "cell_type": "markdown",
   "id": "7991eca4-3f96-447b-8450-41a4b2d0e552",
   "metadata": {},
   "source": [
    "Functions\n",
    "\n",
    "Reusable codes, which we can reuse in our big codes, it reduces the lines of codes.\n",
    "\n",
    "def - Means we are defining a function\n",
    "\n",
    "greeting() - Function name, the purpose of this function is to greet the learners. The purpose of the bracket is to pass the input parameter."
   ]
  },
  {
   "cell_type": "code",
   "execution_count": 16,
   "id": "cd386ec7-7f1e-43ab-9f24-c893149ac2b5",
   "metadata": {},
   "outputs": [],
   "source": [
    "def greetings():\n",
    "    print('Good Morning:Anas')"
   ]
  },
  {
   "cell_type": "code",
   "execution_count": 14,
   "id": "bde44092-7f13-46d6-9178-324a74885763",
   "metadata": {},
   "outputs": [
    {
     "name": "stdout",
     "output_type": "stream",
     "text": [
      "Good Morning\n"
     ]
    }
   ],
   "source": [
    "greetings()"
   ]
  },
  {
   "cell_type": "code",
   "execution_count": 9,
   "id": "d2185ec0-2c10-4954-b57d-5637c27fa1d0",
   "metadata": {},
   "outputs": [
    {
     "name": "stdout",
     "output_type": "stream",
     "text": [
      "Good Morning\n",
      "Good Morning\n",
      "Good Morning\n",
      "Good Morning\n",
      "Good Morning\n",
      "Good Morning\n",
      "Good Morning\n"
     ]
    }
   ],
   "source": [
    "for i in range(0,7):\n",
    "    greetings()"
   ]
  },
  {
   "cell_type": "code",
   "execution_count": 26,
   "id": "0e33e580-e646-494c-9aa2-2c0cdc1f92e7",
   "metadata": {},
   "outputs": [],
   "source": [
    "# For example if want to wish my learner with name #\n",
    "def greeting(name):\n",
    "    print ('Good Morning', name)"
   ]
  },
  {
   "cell_type": "code",
   "execution_count": 24,
   "id": "c4cb4511-de8b-42f2-b2bc-1ac4828ab19e",
   "metadata": {},
   "outputs": [
    {
     "name": "stdout",
     "output_type": "stream",
     "text": [
      "Good Morning Anas\n"
     ]
    }
   ],
   "source": [
    "greeting('Anas')"
   ]
  },
  {
   "cell_type": "code",
   "execution_count": 44,
   "id": "e541b67b-ade0-4258-9ca3-7046a5e61d47",
   "metadata": {},
   "outputs": [
    {
     "name": "stdout",
     "output_type": "stream",
     "text": [
      "Good Morning Anas\n",
      "Good Morning Samar\n",
      "Good Morning Ronoit\n",
      "Good Morning Jack\n"
     ]
    }
   ],
   "source": [
    "learners_name=['Anas','Samar','Ronoit','Jack']\n",
    "for name in learners_name:\n",
    "    print(\"Good Morning\", name)"
   ]
  },
  {
   "cell_type": "code",
   "execution_count": 46,
   "id": "1f25fc94-03f2-4946-8a78-1e3955453b0e",
   "metadata": {},
   "outputs": [],
   "source": [
    "def greeting(name, marks):\n",
    "    print('Good Morning', name,'Your marks is',marks)"
   ]
  },
  {
   "cell_type": "code",
   "execution_count": 49,
   "id": "25ac05ec-303c-497b-9094-9a8091a12c68",
   "metadata": {},
   "outputs": [
    {
     "name": "stdout",
     "output_type": "stream",
     "text": [
      "Good Morning Rohilt Your marks is 10\n"
     ]
    }
   ],
   "source": [
    "greeting('Rohilt',10)"
   ]
  },
  {
   "cell_type": "code",
   "execution_count": null,
   "id": "8419b3c8-9a46-4f89-8a89-a231f66b2fd5",
   "metadata": {},
   "outputs": [],
   "source": [
    "# Default leaner if we dont pass name, if we pass name than it will accept name#"
   ]
  },
  {
   "cell_type": "code",
   "execution_count": 50,
   "id": "8d184bff-b4b3-43e6-a431-bac77dcc8a4e",
   "metadata": {},
   "outputs": [],
   "source": [
    "def greeting(name='Learname'):\n",
    "    print('Good Mornoing',name)"
   ]
  },
  {
   "cell_type": "code",
   "execution_count": 51,
   "id": "9136e26a-5e62-43f1-8995-6a12c5eca309",
   "metadata": {},
   "outputs": [
    {
     "name": "stdout",
     "output_type": "stream",
     "text": [
      "Good Mornoing Learname\n"
     ]
    }
   ],
   "source": [
    "greeting()"
   ]
  },
  {
   "cell_type": "code",
   "execution_count": 52,
   "id": "63732ee0-8a03-4bc9-979f-c3768a5c867a",
   "metadata": {},
   "outputs": [
    {
     "name": "stdout",
     "output_type": "stream",
     "text": [
      "Good Mornoing Roy\n"
     ]
    }
   ],
   "source": [
    "greeting('Roy')"
   ]
  },
  {
   "cell_type": "code",
   "execution_count": 53,
   "id": "0d16e21b-e2ee-4255-8263-5ed3433cdd81",
   "metadata": {},
   "outputs": [],
   "source": [
    "# Docs String#\n",
    "def greeting(name='Learname'):\n",
    "    '''This function will print learner name'''\n",
    "    print('Good Mornoing',name)"
   ]
  },
  {
   "cell_type": "code",
   "execution_count": 54,
   "id": "32cde5b5-e918-4012-adae-253d277a37b3",
   "metadata": {},
   "outputs": [
    {
     "name": "stdout",
     "output_type": "stream",
     "text": [
      "Good Mornoing Riz\n"
     ]
    }
   ],
   "source": [
    "greeting('Riz')"
   ]
  },
  {
   "cell_type": "code",
   "execution_count": null,
   "id": "529b9379-7aa0-4395-8f49-d10ad0d8f58b",
   "metadata": {},
   "outputs": [],
   "source": [
    "# Create a function calcultor#"
   ]
  },
  {
   "cell_type": "code",
   "execution_count": 73,
   "id": "b5d3e15b-7fd0-4758-9ba7-28d92a8ea00a",
   "metadata": {},
   "outputs": [],
   "source": [
    "def calculator(num1,num2,operation='All'):\n",
    "    '''It will create calculator depending upon value entered'''\n",
    "    if operation=='All':\n",
    "        print (num1+num2)\n",
    "        print (num1-num2)\n",
    "        print (num1*num2)\n",
    "        print (num1/num2)\n",
    "    elif operation=='sum':\n",
    "        print (num1+num2)\n",
    "    elif operation=='sub':\n",
    "        print (num1-num2)\n",
    "    elif operation=='mul':\n",
    "        print (num1*num2)\n",
    "    elif operation=='div':\n",
    "        print (num1/num2)\n",
    "    else:\n",
    "        print('Please type correct operation type')     "
   ]
  },
  {
   "cell_type": "code",
   "execution_count": 71,
   "id": "4492754c-daa1-4235-9565-d2765c3a50ed",
   "metadata": {},
   "outputs": [
    {
     "name": "stdout",
     "output_type": "stream",
     "text": [
      "130\n",
      "-66\n",
      "3136\n",
      "0.32653061224489793\n"
     ]
    }
   ],
   "source": [
    "calculator(32,98)"
   ]
  },
  {
   "cell_type": "code",
   "execution_count": 74,
   "id": "40386249-8ee6-42d7-870c-6659d930d059",
   "metadata": {},
   "outputs": [
    {
     "name": "stdout",
     "output_type": "stream",
     "text": [
      "0.32653061224489793\n"
     ]
    }
   ],
   "source": [
    "calculator(32,98,'div')"
   ]
  },
  {
   "cell_type": "code",
   "execution_count": null,
   "id": "fd9090ff-2c34-4345-a631-da06188d5e1b",
   "metadata": {},
   "outputs": [],
   "source": [
    "# Now if I want to save the output =, we have to use keyword return#\n",
    "# What is teh difference between print() and return#"
   ]
  },
  {
   "cell_type": "code",
   "execution_count": 76,
   "id": "5527995e-8800-4480-839f-a418eaad472c",
   "metadata": {},
   "outputs": [],
   "source": [
    "def calculator(num1,num2,operation='All'):\n",
    "    '''It will create calculator depending upon value entered'''\n",
    "    if operation=='All':\n",
    "        return num1+num2\n",
    "        return num1-num2\n",
    "        return num1*num2\n",
    "        return num1/num2\n",
    "    elif operation=='sum':\n",
    "        return num1+num2\n",
    "    elif operation=='sub':\n",
    "        return num1-num2\n",
    "    elif operation=='mul':\n",
    "        return num1*num2\n",
    "    elif operation=='div':\n",
    "        return num1/num2\n",
    "    else:\n",
    "        return 'Please type correct operation type'"
   ]
  },
  {
   "cell_type": "code",
   "execution_count": 79,
   "id": "eab4a3e5-2a7c-41af-9ef9-e6334fc01d5b",
   "metadata": {},
   "outputs": [],
   "source": [
    "output =calculator(10,2,'mul')"
   ]
  },
  {
   "cell_type": "code",
   "execution_count": 80,
   "id": "ded71f8f-265f-4bb0-8dfc-529058610d40",
   "metadata": {},
   "outputs": [
    {
     "data": {
      "text/plain": [
       "20"
      ]
     },
     "execution_count": 80,
     "metadata": {},
     "output_type": "execute_result"
    }
   ],
   "source": [
    "output"
   ]
  },
  {
   "cell_type": "code",
   "execution_count": 95,
   "id": "0569b126-e0a7-4fbf-ae92-80a8ce4f7fa6",
   "metadata": {},
   "outputs": [],
   "source": [
    "def calculator(num1,num2,operation='All'):\n",
    "    '''It will create calculator depending upon value entered'''\n",
    "    if operation=='All':\n",
    "        return {'num1+num2' :num1+num2, 'num1-num2' :num1-num2, 'num1*num2': num1*num2, 'num1/num2':num1/num2}\n",
    "    elif operation=='sum':\n",
    "        return num1+num2\n",
    "    elif operation=='sub':\n",
    "        return num1-num2\n",
    "    elif operation=='mul':\n",
    "        return num1*num2\n",
    "    elif operation=='div':\n",
    "        return num1/num2\n",
    "    else:\n",
    "        print('Please type correct operation type')"
   ]
  },
  {
   "cell_type": "code",
   "execution_count": 85,
   "id": "a548772e-6e90-48cb-a253-254ed81c9128",
   "metadata": {},
   "outputs": [
    {
     "data": {
      "text/plain": [
       "dict"
      ]
     },
     "execution_count": 85,
     "metadata": {},
     "output_type": "execute_result"
    }
   ],
   "source": [
    "type(calculator(23,24))"
   ]
  },
  {
   "cell_type": "code",
   "execution_count": 97,
   "id": "f2ea3089-4e0c-4c3e-8c6f-fe04fcff2502",
   "metadata": {},
   "outputs": [
    {
     "name": "stdin",
     "output_type": "stream",
     "text": [
      "Enter the first number value 2\n",
      "Enter the second number value 2\n",
      "Enter the operation type sum\n"
     ]
    },
    {
     "data": {
      "text/plain": [
       "4"
      ]
     },
     "execution_count": 97,
     "metadata": {},
     "output_type": "execute_result"
    }
   ],
   "source": [
    "# Now if we want user to enter the value#\n",
    "num1=int(input('Enter the first number value'))\n",
    "num2=int(input('Enter the second number value'))   \n",
    "operation=input(\"Enter the operation type\")\n",
    "calculator(num1,num2,operation)"
   ]
  },
  {
   "cell_type": "code",
   "execution_count": 111,
   "id": "6e2c7201-1c13-4fd7-8803-682e9b3626b8",
   "metadata": {},
   "outputs": [],
   "source": [
    "# Create a function factorial for a number#\n",
    "def factorial(num):\n",
    "    if num<0:\n",
    "        print(\"There is no factorial for a negative number\")\n",
    "    else:\n",
    "        result=1\n",
    "        while num>=1:\n",
    "            result=result*num\n",
    "            num=num-1\n",
    "        return result"
   ]
  },
  {
   "cell_type": "code",
   "execution_count": 114,
   "id": "9fbe51af-4092-4021-9ddd-bddec00c307c",
   "metadata": {},
   "outputs": [
    {
     "name": "stdout",
     "output_type": "stream",
     "text": [
      "There is no factorial for a negative number\n"
     ]
    }
   ],
   "source": [
    "factorial(-1)"
   ]
  },
  {
   "cell_type": "markdown",
   "id": "cd16d65c-4f2e-44e8-ac11-3d62c81a6c82",
   "metadata": {},
   "source": [
    "Variable length Arguement- It varies with variable length"
   ]
  },
  {
   "cell_type": "code",
   "execution_count": 119,
   "id": "1072ff54-86cf-41f1-9abb-3cc1ab53dd22",
   "metadata": {},
   "outputs": [],
   "source": [
    "# If I want to add more than 2 variable then come concept of variable length arguement (*)\n",
    "def addition(*num):\n",
    "    result=0\n",
    "    for i in num:\n",
    "        result=result+i\n",
    "    print(result)"
   ]
  },
  {
   "cell_type": "code",
   "execution_count": 120,
   "id": "6d0a6494-0ed8-4e70-9581-3e1b6198849c",
   "metadata": {},
   "outputs": [
    {
     "name": "stdout",
     "output_type": "stream",
     "text": [
      "81\n"
     ]
    }
   ],
   "source": [
    "addition(10,30,40)"
   ]
  }
 ],
 "metadata": {
  "kernelspec": {
   "display_name": "Python 3 (ipykernel)",
   "language": "python",
   "name": "python3"
  },
  "language_info": {
   "codemirror_mode": {
    "name": "ipython",
    "version": 3
   },
   "file_extension": ".py",
   "mimetype": "text/x-python",
   "name": "python",
   "nbconvert_exporter": "python",
   "pygments_lexer": "ipython3",
   "version": "3.11.7"
  }
 },
 "nbformat": 4,
 "nbformat_minor": 5
}
