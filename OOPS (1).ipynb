{
 "cells": [
  {
   "cell_type": "markdown",
   "id": "f3aa64e7-e53d-43cb-abcc-3350507121fa",
   "metadata": {},
   "source": [
    "Object Oriented Programming"
   ]
  },
  {
   "cell_type": "markdown",
   "id": "c64ea23f-9561-4b5d-bf75-2f80d5eb63fc",
   "metadata": {},
   "source": [
    "Codes in Python can be done in two ways\n",
    "Object Oriented Programming Language\n",
    "Functional Programming"
   ]
  },
  {
   "cell_type": "code",
   "execution_count": 1,
   "id": "d2a38887-f0d6-4210-a3b3-1325c0bd0569",
   "metadata": {},
   "outputs": [],
   "source": [
    "def ctof(c):\n",
    "    f=(c*9/5)+32\n",
    "    return (f)"
   ]
  },
  {
   "cell_type": "code",
   "execution_count": 2,
   "id": "792b4c5c-04ab-467d-91a3-2b31ffc69730",
   "metadata": {},
   "outputs": [
    {
     "data": {
      "text/plain": [
       "68.0"
      ]
     },
     "execution_count": 2,
     "metadata": {},
     "output_type": "execute_result"
    }
   ],
   "source": [
    "ctof(20)"
   ]
  },
  {
   "cell_type": "code",
   "execution_count": 3,
   "id": "ab6ef570-de06-4ded-a467-6508625d9baf",
   "metadata": {},
   "outputs": [],
   "source": [
    "class CeltoFer:\n",
    "    def __init__(self,c):\n",
    "        self.c=c\n",
    "    def ctof(self):\n",
    "        f=(self.c*9/5)+32\n",
    "        return(f)"
   ]
  },
  {
   "cell_type": "code",
   "execution_count": 4,
   "id": "3352847d-729b-4a02-978f-50a6f92c3d83",
   "metadata": {},
   "outputs": [
    {
     "data": {
      "text/plain": [
       "68.0"
      ]
     },
     "execution_count": 4,
     "metadata": {},
     "output_type": "execute_result"
    }
   ],
   "source": [
    "c1=CeltoFer(20)\n",
    "c1.ctof()"
   ]
  },
  {
   "cell_type": "code",
   "execution_count": 27,
   "id": "8cacc64c-ca10-4822-b8f4-e02d4ebb4e19",
   "metadata": {},
   "outputs": [],
   "source": [
    "class Employee:\n",
    "    def __init__(self, eid,efname,elname,esalary,elocation,ecompany):\n",
    "        self.eid = eid\n",
    "        self.efname = efname\n",
    "        self.elname = elname\n",
    "        self.esalary = esalary\n",
    "        self.elocation = elocation\n",
    "        self.ecompany=ecompany\n",
    "        \n",
    "    def display(self):\n",
    "        print('Your employee id is:', self.eid)\n",
    "        print('Your name is:', self.efname+' '+self.elname)\n",
    "        print('Your salary is:', self.esalary)\n",
    "        print('Your location is:', self.elocation)\n",
    "        print('Your company name is: ', self.ecompany)\n",
    "        \n",
    "    def tax_calc(self):\n",
    "        if self.esalary<=2500:\n",
    "            print('Your total tax is: ', self.esalary*0)\n",
    "        elif self.esalary>2500 and self.esalary<=5000:\n",
    "            print('Your total tax is: ', self.esalary*0.05)\n",
    "        elif self.esalary>5000 and self.esalary<=10000:\n",
    "            print('Your total tax is: ', self.esalary*0.10)\n",
    "        else:\n",
    "            print('Your total tax is: ', self.esalary*0.15)"
   ]
  },
  {
   "cell_type": "code",
   "execution_count": 39,
   "id": "28edfa39-bb97-4112-9f65-457817004342",
   "metadata": {},
   "outputs": [
    {
     "name": "stdout",
     "output_type": "stream",
     "text": [
      "Your employee id is: 1\n",
      "Your name is: Anas Bilal\n",
      "Your salary is: 3500\n",
      "Your location is: Delhi\n",
      "Your company name is:  TTS\n",
      "Your total tax is:  175.0\n"
     ]
    }
   ],
   "source": [
    "emp1=Employee(1,\"Anas\",\"Bilal\",3500,\"Delhi\",\"TTS\")\n",
    "emp1.display()\n",
    "emp1.tax_calc()"
   ]
  },
  {
   "cell_type": "code",
   "execution_count": 11,
   "id": "6b69f7f4-822a-40e0-8ad1-e9f9ca68fae6",
   "metadata": {},
   "outputs": [],
   "source": [
    "class Employee:\n",
    "    def __init__(self, eid,efname,elname,esalary,elocation):\n",
    "        self.eid = eid\n",
    "        self.efname = efname\n",
    "        self.elname = elname\n",
    "        self.esalary = esalary\n",
    "        self.elocation = elocation\n",
    "    \n",
    "        \n",
    "    def display(self):\n",
    "        print('Your employee id is:', self.eid)\n",
    "        print('Your name is:', self.efname+' '+self.elname)\n",
    "        print('Your salary is:', self.esalary)\n",
    "        print('Your location is:', self.elocation)\n",
    "        \n",
    "        \n",
    "    def tax_calc(self):\n",
    "        if self.esalary<=2500:\n",
    "            print('Your total tax is: ', self.esalary*0)\n",
    "        elif self.esalary>2500 and self.esalary<=5000:\n",
    "            print('Your total tax is: ', self.esalary*0.05)\n",
    "        elif self.esalary>5000 and self.esalary<=10000:\n",
    "            print('Your total tax is: ', self.esalary*0.10)\n",
    "        else:\n",
    "            print('Your total tax is: ', self.esalary*0.15)\n",
    "    def bon_cal(self):\n",
    "        if self.elocation==\"Delhi\":\n",
    "            print(\"Your bonus is :\", self.esalary*0.5)\n",
    "        else:\n",
    "            print(\"There will be no bonus\")\n",
    "    def hike_calc(self):\n",
    "        hike=0.30\n",
    "        if self.esalary<5000:\n",
    "            print(\"Your salary is :\",self.esalary+self.esalary*hike)\n",
    "        else:\n",
    "            print(\"Your salary is :\",self.esalary)\n",
    "            "
   ]
  },
  {
   "cell_type": "code",
   "execution_count": 12,
   "id": "8f2e6994-737a-4c52-a887-b3c10c95c4b7",
   "metadata": {},
   "outputs": [
    {
     "name": "stdout",
     "output_type": "stream",
     "text": [
      "Your employee id is: 1\n",
      "Your name is: Anas Bilal\n",
      "Your salary is: 3500\n",
      "Your location is: Delhi\n",
      "Your total tax is:  175.0\n",
      "Your bonus is : 1750.0\n",
      "Your salary is : 4550.0\n"
     ]
    }
   ],
   "source": [
    "emp1=Employee(1,\"Anas\", \"Bilal\",3500,\"Delhi\")\n",
    "emp1.display()\n",
    "emp1.tax_calc()\n",
    "emp1.bon_cal()\n",
    "emp1.hike_calc()"
   ]
  },
  {
   "cell_type": "code",
   "execution_count": 52,
   "id": "5127b9ec-6232-4e02-a8b0-f9fa54379f0c",
   "metadata": {},
   "outputs": [
    {
     "name": "stdout",
     "output_type": "stream",
     "text": [
      "Your employee id is: 2\n",
      "Your name is: Sauban Bilal\n",
      "Your salary is: 10000\n",
      "Your location is: Gurgaon\n",
      "Your total tax is:  1000.0\n",
      "There will be no bonus\n"
     ]
    }
   ],
   "source": [
    "emp2=Employee(2,\"Sauban\",\"Bilal\",10000,\"Gurgaon\")\n",
    "emp2.display()\n",
    "emp2.tax_calc()\n",
    "emp2.bon_cal()"
   ]
  },
  {
   "cell_type": "markdown",
   "id": "2f3b6a1e-eea7-4e20-a62c-2a2f7bbc1572",
   "metadata": {},
   "source": [
    "# Instance Variable/Object Level Variable #\n",
    "These variables are local to an object and are also known as Instance variable.\n",
    "It is advisable to use if with self.\n",
    "In our eid,fname,lname are instance or object level variable."
   ]
  },
  {
   "cell_type": "markdown",
   "id": "3863b3dc-7895-4262-b22b-aba928cabd0b",
   "metadata": {},
   "source": [
    "# Static Variable/Class Level Variable #\n",
    "These variables are local to a Class and are also known as Static variable.\n",
    "It is advisable to use if with class.\n",
    "In our eid,fname,lname are instance or object level variable."
   ]
  },
  {
   "cell_type": "markdown",
   "id": "bde0f6b7-fa4f-4f4d-b9e0-2fefd3dec05c",
   "metadata": {},
   "source": [
    "Local Variable/Method Level Variable\n",
    "Local variable are variables local to a method also known as Method Level variable. for example hike"
   ]
  },
  {
   "cell_type": "code",
   "execution_count": 13,
   "id": "8aa15912-8796-450e-b556-7d12bd5d7dab",
   "metadata": {},
   "outputs": [],
   "source": [
    "list_employees=[(1,'A','B',4000,'Delhi'),\n",
    "                (2,'C','D',4000,'Gurgaon'),\n",
    "                (3,'E','F',4000,'Noida'),\n",
    "                (4,'G','H',4000,'Banglore'),\n",
    "                (5,'I','J',4000,'Faridabad'),\n",
    "                (6,'K','L',4000,'Nagpur',),\n",
    "                (7,'M','N',4000,'Pune',)]\n",
    "# now if I want a simple call to call from a list or tupple then come concept of variable length#"
   ]
  },
  {
   "cell_type": "code",
   "execution_count": 22,
   "id": "03a40335-8d8f-4a52-aadb-97d4a6c310ab",
   "metadata": {},
   "outputs": [
    {
     "name": "stdout",
     "output_type": "stream",
     "text": [
      "Your employee id is: 1\n",
      "Your name is: A B\n",
      "Your salary is: 4000\n",
      "Your location is: Delhi\n",
      "Your total tax is:  200.0\n",
      "Your bonus is : 2000.0\n",
      "Your salary is : 5200.0\n",
      "==============================================\n",
      "Your employee id is: 2\n",
      "Your name is: C D\n",
      "Your salary is: 4000\n",
      "Your location is: Gurgaon\n",
      "Your total tax is:  200.0\n",
      "There will be no bonus\n",
      "Your salary is : 5200.0\n",
      "==============================================\n",
      "Your employee id is: 3\n",
      "Your name is: E F\n",
      "Your salary is: 4000\n",
      "Your location is: Noida\n",
      "Your total tax is:  200.0\n",
      "There will be no bonus\n",
      "Your salary is : 5200.0\n",
      "==============================================\n",
      "Your employee id is: 4\n",
      "Your name is: G H\n",
      "Your salary is: 4000\n",
      "Your location is: Banglore\n",
      "Your total tax is:  200.0\n",
      "There will be no bonus\n",
      "Your salary is : 5200.0\n",
      "==============================================\n",
      "Your employee id is: 5\n",
      "Your name is: I J\n",
      "Your salary is: 4000\n",
      "Your location is: Faridabad\n",
      "Your total tax is:  200.0\n",
      "There will be no bonus\n",
      "Your salary is : 5200.0\n",
      "==============================================\n",
      "Your employee id is: 6\n",
      "Your name is: K L\n",
      "Your salary is: 4000\n",
      "Your location is: Nagpur\n",
      "Your total tax is:  200.0\n",
      "There will be no bonus\n",
      "Your salary is : 5200.0\n",
      "==============================================\n",
      "Your employee id is: 7\n",
      "Your name is: M N\n",
      "Your salary is: 4000\n",
      "Your location is: Pune\n",
      "Your total tax is:  200.0\n",
      "There will be no bonus\n",
      "Your salary is : 5200.0\n",
      "==============================================\n"
     ]
    }
   ],
   "source": [
    "for i in list_employees:\n",
    "    emp=Employee(*i)\n",
    "    emp.display()\n",
    "    emp.tax_calc()\n",
    "    emp.bon_cal()\n",
    "    emp.hike_calc()\n",
    "    print('==============================================')"
   ]
  }
 ],
 "metadata": {
  "kernelspec": {
   "display_name": "Python 3 (ipykernel)",
   "language": "python",
   "name": "python3"
  },
  "language_info": {
   "codemirror_mode": {
    "name": "ipython",
    "version": 3
   },
   "file_extension": ".py",
   "mimetype": "text/x-python",
   "name": "python",
   "nbconvert_exporter": "python",
   "pygments_lexer": "ipython3",
   "version": "3.11.7"
  }
 },
 "nbformat": 4,
 "nbformat_minor": 5
}
