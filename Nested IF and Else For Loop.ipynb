{
 "cells": [
  {
   "cell_type": "markdown",
   "id": "08853f85-2609-4d40-a035-18064f81a3de",
   "metadata": {},
   "source": [
    "Nested If and Else"
   ]
  },
  {
   "cell_type": "code",
   "execution_count": 13,
   "id": "c77c47ac-1046-4fdc-a4a1-ba8e28ab62bf",
   "metadata": {},
   "outputs": [
    {
     "name": "stdin",
     "output_type": "stream",
     "text": [
      "Enter transaction amount:  5000\n",
      "Enter transaction type:  Anas\n"
     ]
    },
    {
     "name": "stdout",
     "output_type": "stream",
     "text": [
      "There is an error, enter correct amount: \n",
      "Total amount:  5000\n"
     ]
    }
   ],
   "source": [
    "transaction_amount=int(input('Enter transaction amount: '))\n",
    "transaction_type=input('Enter transaction type: ')\n",
    "transaction_fee=0\n",
    "if transaction_type=='withdrawal':\n",
    " if transaction_amount<500:\n",
    "     transaction_fee=2\n",
    " if transaction_amount>=500:\n",
    "     transaction_fee=5\n",
    "elif transaction_type=='Deposit':\n",
    "     transaction_fee=0\n",
    "else:\n",
    "    print('There is an error, enter correct amount: ')\n",
    "\n",
    "total_amount=transaction_amount+transaction_fee\n",
    "print('Total amount: ',total_amount)"
   ]
  },
  {
   "cell_type": "markdown",
   "id": "ff07a0cf-bd98-4d7d-98af-0086170a01ff",
   "metadata": {},
   "source": [
    "For Loop: It is for iteration."
   ]
  },
  {
   "cell_type": "code",
   "execution_count": 3,
   "id": "43453be5-688a-4fc9-a9ce-0b3165603f28",
   "metadata": {},
   "outputs": [
    {
     "name": "stdout",
     "output_type": "stream",
     "text": [
      "A\n",
      "n\n",
      "a\n",
      "s\n",
      " \n",
      "B\n",
      "i\n",
      "l\n",
      "a\n",
      "l\n"
     ]
    }
   ],
   "source": [
    "import time\n",
    "name='Anas Bilal'\n",
    "for i in name:\n",
    "    print(i)\n",
    "    time.sleep(2)"
   ]
  },
  {
   "cell_type": "code",
   "execution_count": 4,
   "id": "2bc9007b-7f8f-4228-be7c-91379b25a061",
   "metadata": {},
   "outputs": [
    {
     "name": "stdout",
     "output_type": "stream",
     "text": [
      "222\n",
      "sales\n",
      "4569\n",
      "profit\n",
      "546\n",
      "discount\n",
      "56789\n",
      "Total\n"
     ]
    }
   ],
   "source": [
    "name=[222,'sales',4569,'profit',546,'discount',56789,'Total']\n",
    "for t in name:\n",
    "    print(t)"
   ]
  },
  {
   "cell_type": "code",
   "execution_count": null,
   "id": "e90cb175-47d4-44ec-bc53-9576b85b295d",
   "metadata": {},
   "outputs": [],
   "source": [
    "# If I want to divide sales by profit and the values are in list"
   ]
  },
  {
   "cell_type": "code",
   "execution_count": 1,
   "id": "2d20b4c4-bda6-4afa-adfe-329b481092cb",
   "metadata": {},
   "outputs": [],
   "source": [
    "sales=[245,3456,6785,9874,234]\n",
    "profit=[9820,987,4567,456,986]\n",
    "# We cannnot divide it directly, we have to use For#"
   ]
  },
  {
   "cell_type": "code",
   "execution_count": 2,
   "id": "ed610534-0163-4ca8-bd06-10931c388378",
   "metadata": {},
   "outputs": [
    {
     "name": "stdout",
     "output_type": "stream",
     "text": [
      "0.02494908350305499\n",
      "3.501519756838906\n",
      "1.4856579811692576\n",
      "21.653508771929825\n",
      "0.23732251521298176\n"
     ]
    }
   ],
   "source": [
    "for i in [0,1,2,3,4]:\n",
    "    print (sales[i]/profit[i])"
   ]
  },
  {
   "cell_type": "code",
   "execution_count": 7,
   "id": "6501552a-87ff-40e3-a3d8-260fd72c5957",
   "metadata": {},
   "outputs": [
    {
     "name": "stdout",
     "output_type": "stream",
     "text": [
      "0.02494908350305499\n",
      "3.501519756838906\n",
      "1.4856579811692576\n",
      "21.653508771929825\n",
      "0.23732251521298176\n"
     ]
    }
   ],
   "source": [
    "# Now in case if values increase we can make it mor customize#\n",
    "for i in range(0,len(sales)):\n",
    "    print(sales[i]/profit[i])"
   ]
  },
  {
   "cell_type": "code",
   "execution_count": null,
   "id": "2ff55adf-54b7-420c-adb0-c121487ed392",
   "metadata": {},
   "outputs": [],
   "source": [
    "# If I am having a transaction_history[-40,10,30,0,-80] and I want +ve amount to be shown as Deposit and -ve amount as Withdrwal, Write quote for it#"
   ]
  },
  {
   "cell_type": "code",
   "execution_count": 22,
   "id": "ee349dc0-ead7-41c1-a69d-b39811bf51dc",
   "metadata": {},
   "outputs": [
    {
     "name": "stdout",
     "output_type": "stream",
     "text": [
      "transaction_history: \n",
      "Deposit:  10\n",
      "Deposit:  30\n",
      "Deposit:  0\n",
      "Withdraw:  80\n"
     ]
    }
   ],
   "source": [
    "transaction_history=[-40,10,30,0,-80] \n",
    "print('transaction_history: ')\n",
    "for t in transaction_history:\n",
    "    if t>=0:\n",
    "     print('Deposit: ', t)\n",
    "else:\n",
    "     print('Withdraw: ', abs(t))"
   ]
  },
  {
   "cell_type": "code",
   "execution_count": 19,
   "id": "c02dfeda-afc9-4648-ae4d-e9a82ba8f3a1",
   "metadata": {},
   "outputs": [
    {
     "name": "stdout",
     "output_type": "stream",
     "text": [
      "transaction_history: \n",
      "Deposit:  40\n",
      "Deposit:  10\n",
      "Deposit:  30\n",
      "Withdraw:  80\n"
     ]
    }
   ],
   "source": [
    "transaction_history=[40,10,30,0,-80] \n",
    "print('transaction_history: ')\n",
    "for t in transaction_history:\n",
    "    if t>0:\n",
    "     print('Deposit: ', t)\n",
    "else:\n",
    "     print('Withdraw: ', abs(t))"
   ]
  },
  {
   "cell_type": "code",
   "execution_count": 23,
   "id": "886a6fdd-faa5-476c-a601-b7e21f92a192",
   "metadata": {},
   "outputs": [],
   "source": [
    "# Write a code to find account balance#\n",
    "account_balances=[2000,9045,6786,5674,98764]"
   ]
  },
  {
   "cell_type": "code",
   "execution_count": 40,
   "id": "999c5752-ca73-42a8-bef9-6fe3ee130ae2",
   "metadata": {},
   "outputs": [
    {
     "name": "stdout",
     "output_type": "stream",
     "text": [
      "Total account balance:  122269\n"
     ]
    }
   ],
   "source": [
    "account_balances=[2000,9045,6786,5674,98764]\n",
    "total_balance=0\n",
    "for balance in account_balances:\n",
    "    total_balance=total_balance+balance\n",
    "print('Total account balance: ',total_balance)"
   ]
  },
  {
   "cell_type": "code",
   "execution_count": 23,
   "id": "c55fa5e8-8d74-40bb-a4f8-233f36a2ddfd",
   "metadata": {},
   "outputs": [
    {
     "name": "stdout",
     "output_type": "stream",
     "text": [
      "Updated account balance:  [1050.0, 1575.0, 2625.0, 10500.0, 3675.0, 5040.0]\n"
     ]
    }
   ],
   "source": [
    "account_balances=[1000,1500,2500,10000,3500,4800]\n",
    "interest_rate=0.05\n",
    "\n",
    "for a in range(len(account_balances)): \n",
    "    interest=account_balances[a]*interest_rate \n",
    "    account_balances[a]+=interest \n",
    "print('Updated account balance: ',account_balances)"
   ]
  },
  {
   "cell_type": "code",
   "execution_count": 16,
   "id": "5be3e1df-d378-42e9-b036-a65753dbac15",
   "metadata": {},
   "outputs": [
    {
     "name": "stdin",
     "output_type": "stream",
     "text": [
      "Enter account number:  1\n"
     ]
    },
    {
     "name": "stdout",
     "output_type": "stream",
     "text": [
      "Remaining accounts:  [123456, 789012, 345678, 901234, 56740, 8976]\n"
     ]
    }
   ],
   "source": [
    "account_numbers = [123456,789012,345678,901234,56740,8976]\n",
    "account_to_be_closed=int(input('Enter account number: '))\n",
    "for account in account_numbers:\n",
    "    if account==account_to_be_closed:\n",
    "        print('Account closed: ',account)\n",
    "#print('Account not found')\n",
    "print('Remaining accounts: ', account_numbers)\n",
    "                         \n"
   ]
  },
  {
   "cell_type": "markdown",
   "id": "744bd859-66b5-4145-88df-6c084d9378ee",
   "metadata": {},
   "source": [
    "# Write a code to close account from account list#"
   ]
  },
  {
   "cell_type": "code",
   "execution_count": 19,
   "id": "cf84df7f-e3f8-4ebb-b6eb-6e15a831f152",
   "metadata": {},
   "outputs": [
    {
     "name": "stdin",
     "output_type": "stream",
     "text": [
      "Which account you need to close:  12\n"
     ]
    },
    {
     "name": "stdout",
     "output_type": "stream",
     "text": [
      "Account not found\n",
      "Remaining accounts:  [123456, 789012, 345678, 901234]\n"
     ]
    }
   ],
   "source": [
    "account_numbers = [123456,789012,345678,901234]\n",
    "account_to_close = int(input('Which account you need to close: '))\n",
    "for account in account_numbers:\n",
    "    if account==account_to_close:\n",
    "        print('Closing Account: ', account)\n",
    "        account_numbers.remove(account)\n",
    "print('Account not found')\n",
    "print('Remaining accounts: ', account_numbers)"
   ]
  },
  {
   "cell_type": "markdown",
   "id": "a028a944-2395-4733-a95e-f17769cc1f16",
   "metadata": {},
   "source": [
    "# How to iterate for a list of dictionary#"
   ]
  },
  {
   "cell_type": "code",
   "execution_count": 2,
   "id": "1933c1a3-296c-4f23-9629-99227d268b2e",
   "metadata": {},
   "outputs": [],
   "source": [
    "account_transaction=[{'date':'2023-08-01', 'type':'Deposit','Amount':100},\n",
    "                     {'date':'2023-08-02', 'type':'Withdraw','Amount':10},\n",
    "                     {'date':'2023-08-03', 'type':'Deposit','Amount':150},\n",
    "                     {'date':'2023-08-04', 'type':'Withdraw','Amount':1300},\n",
    "                     {'date':'2023-08-05', 'type':'Deposit','Amount':120},\n",
    "                     {'date':'2023-08-06', 'type':'Withdraw','Amount':50},\n",
    "                     {'date':'2023-08-07', 'type':'Deposit','Amount':70},\n",
    "                     {'date':'2023-08-08', 'type':'Withdraw','Amount':50}]\n",
    "                                 "
   ]
  },
  {
   "cell_type": "code",
   "execution_count": 7,
   "id": "e841f9d5-78b4-4a54-bbe0-98bd0c60f0f5",
   "metadata": {},
   "outputs": [
    {
     "name": "stdout",
     "output_type": "stream",
     "text": [
      "Account Statement\n",
      "2023-08-01 - Deposit - 100\n",
      "2023-08-02 - Withdraw - 10\n",
      "2023-08-03 - Deposit - 150\n",
      "2023-08-04 - Withdraw - 1300\n",
      "2023-08-05 - Deposit - 120\n",
      "2023-08-06 - Withdraw - 50\n",
      "2023-08-07 - Deposit - 70\n",
      "2023-08-08 - Withdraw - 50\n"
     ]
    }
   ],
   "source": [
    "print('Account Statement')\n",
    "for i in account_transaction:\n",
    "    print(i['date'],'-',i['type'],'-', i['Amount'])"
   ]
  },
  {
   "cell_type": "markdown",
   "id": "b3684e66-a4d4-4989-a95b-19c143bb585e",
   "metadata": {},
   "source": [
    "zip() : "
   ]
  },
  {
   "cell_type": "code",
   "execution_count": 1,
   "id": "c380a9bc-0c63-4dc6-8155-349a642406f7",
   "metadata": {},
   "outputs": [],
   "source": [
    "transaction_date=['2023-08-01', '2023-08-02', '2023-08-03', '2023-08-04', '2023-08-05', '2023-08-06']\n",
    "transaction_amount=[100,200,50,456,456,890]\n",
    "transaction_type=['Deposit','Witdraw','Deposit','Withdraw','Deposit','Withdraw']"
   ]
  },
  {
   "cell_type": "code",
   "execution_count": 4,
   "id": "b680d143-3a57-42de-8b93-5780f03efd10",
   "metadata": {},
   "outputs": [
    {
     "name": "stdout",
     "output_type": "stream",
     "text": [
      "2023-08-01 - 100 - Deposit\n",
      "2023-08-02 - 200 - Witdraw\n",
      "2023-08-03 - 50 - Deposit\n",
      "2023-08-04 - 456 - Withdraw\n",
      "2023-08-05 - 456 - Deposit\n",
      "2023-08-06 - 890 - Withdraw\n"
     ]
    }
   ],
   "source": [
    "for [td,ta,tt] in zip (transaction_date,transaction_amount,transaction_type):\n",
    "    print(td,'-',ta,'-' ,tt)"
   ]
  },
  {
   "cell_type": "code",
   "execution_count": null,
   "id": "c723a99a-c231-415d-90ec-8b5c504e9f84",
   "metadata": {},
   "outputs": [],
   "source": []
  }
 ],
 "metadata": {
  "kernelspec": {
   "display_name": "Python 3 (ipykernel)",
   "language": "python",
   "name": "python3"
  },
  "language_info": {
   "codemirror_mode": {
    "name": "ipython",
    "version": 3
   },
   "file_extension": ".py",
   "mimetype": "text/x-python",
   "name": "python",
   "nbconvert_exporter": "python",
   "pygments_lexer": "ipython3",
   "version": "3.11.7"
  }
 },
 "nbformat": 4,
 "nbformat_minor": 5
}
