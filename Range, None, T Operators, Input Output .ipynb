{
 "cells": [
  {
   "cell_type": "markdown",
   "id": "2bfc71da-f321-4899-a6be-07b3dc15aab0",
   "metadata": {},
   "source": [
    "#Range#"
   ]
  },
  {
   "cell_type": "code",
   "execution_count": 8,
   "id": "718121d0-17ee-44ce-b782-d0ef70880595",
   "metadata": {},
   "outputs": [
    {
     "data": {
      "text/plain": [
       "[0, 1, 2, 3, 4, 5, 6, 7, 8, 9, 10, 11, 12, 13, 14]"
      ]
     },
     "execution_count": 8,
     "metadata": {},
     "output_type": "execute_result"
    }
   ],
   "source": [
    "list(range(0,15))"
   ]
  },
  {
   "cell_type": "code",
   "execution_count": 12,
   "id": "76667336-9a7d-4649-b96f-3327cefa9645",
   "metadata": {},
   "outputs": [
    {
     "data": {
      "text/plain": [
       "[15, 14, 13, 12, 11, 10, 9, 8, 7, 6, 5, 4, 3, 2]"
      ]
     },
     "execution_count": 12,
     "metadata": {},
     "output_type": "execute_result"
    }
   ],
   "source": [
    "list(range(15,1,-1))"
   ]
  },
  {
   "cell_type": "code",
   "execution_count": null,
   "id": "1a913515-91c8-4dcc-a727-22f701ee6afc",
   "metadata": {},
   "outputs": [],
   "source": [
    "#None#"
   ]
  },
  {
   "cell_type": "code",
   "execution_count": 16,
   "id": "190c6e4d-4e5f-43ab-a96d-6ad37107ae34",
   "metadata": {},
   "outputs": [],
   "source": [
    "a=None"
   ]
  },
  {
   "cell_type": "code",
   "execution_count": 17,
   "id": "5100a84f-7f16-4c20-a530-745569780eb8",
   "metadata": {},
   "outputs": [
    {
     "data": {
      "text/plain": [
       "NoneType"
      ]
     },
     "execution_count": 17,
     "metadata": {},
     "output_type": "execute_result"
    }
   ],
   "source": [
    "type(a)"
   ]
  },
  {
   "cell_type": "code",
   "execution_count": null,
   "id": "4f06e271-5754-4e80-9a8e-c2ab537460e3",
   "metadata": {},
   "outputs": [],
   "source": [
    "Operators in Python \n",
    "\n",
    "Arithmatic\n",
    "Relational Operators / Comparision Operators \n",
    "Logical Operators \n",
    "Equality Operators \n",
    "Ternary Operators \n",
    "Assignment Operators \n",
    "Special Operators"
   ]
  },
  {
   "cell_type": "code",
   "execution_count": null,
   "id": "7dcddb65-2fda-48ee-9a24-ce71ee38ab60",
   "metadata": {},
   "outputs": [],
   "source": [
    "+ Add\n",
    "- Subtraction\n",
    "* Multiplication\n",
    "/ Division\n",
    "% Remainder (Modula)\n",
    "// Quotient (Floor Division)\n",
    "** (Power)"
   ]
  },
  {
   "cell_type": "code",
   "execution_count": 1,
   "id": "268c261e-c6bb-43d4-84bf-bb2928cddd0b",
   "metadata": {},
   "outputs": [],
   "source": [
    "a=20\n",
    "b=5"
   ]
  },
  {
   "cell_type": "code",
   "execution_count": 5,
   "id": "6d499c5c-fead-4d2e-bb5b-ee5ddb1c44e4",
   "metadata": {},
   "outputs": [
    {
     "name": "stdout",
     "output_type": "stream",
     "text": [
      "25\n",
      "15\n",
      "100\n",
      "4.0\n",
      "0\n",
      "4\n"
     ]
    }
   ],
   "source": [
    "print(a+b)\n",
    "print(a-b)\n",
    "print(a*b)\n",
    "print(a/b)\n",
    "print(a%b)\n",
    "print(a//b)"
   ]
  },
  {
   "cell_type": "code",
   "execution_count": 6,
   "id": "a433fb5b-d7be-4cec-8a8b-af1c6c0a3a54",
   "metadata": {},
   "outputs": [
    {
     "data": {
      "text/plain": [
       "20"
      ]
     },
     "execution_count": 6,
     "metadata": {},
     "output_type": "execute_result"
    }
   ],
   "source": [
    "10+10"
   ]
  },
  {
   "cell_type": "code",
   "execution_count": 7,
   "id": "6900b1ff-009c-40d3-aa80-d19cfef7876c",
   "metadata": {},
   "outputs": [
    {
     "ename": "TypeError",
     "evalue": "can only concatenate str (not \"int\") to str",
     "output_type": "error",
     "traceback": [
      "\u001b[1;31m---------------------------------------------------------------------------\u001b[0m",
      "\u001b[1;31mTypeError\u001b[0m                                 Traceback (most recent call last)",
      "Cell \u001b[1;32mIn[7], line 1\u001b[0m\n\u001b[1;32m----> 1\u001b[0m \u001b[38;5;124m'\u001b[39m\u001b[38;5;124m10\u001b[39m\u001b[38;5;124m'\u001b[39m\u001b[38;5;241m+\u001b[39m\u001b[38;5;241m10\u001b[39m\n",
      "\u001b[1;31mTypeError\u001b[0m: can only concatenate str (not \"int\") to str"
     ]
    }
   ],
   "source": [
    "'10'+10"
   ]
  },
  {
   "cell_type": "code",
   "execution_count": 9,
   "id": "8d5d58a3-0a01-4afd-8c70-7e9419866538",
   "metadata": {},
   "outputs": [
    {
     "data": {
      "text/plain": [
       "20"
      ]
     },
     "execution_count": 9,
     "metadata": {},
     "output_type": "execute_result"
    }
   ],
   "source": [
    "# we have to typecast it to change to integer#\n",
    "int('10')+10"
   ]
  },
  {
   "cell_type": "markdown",
   "id": "53ac54dd-5c2f-435e-a0b8-ddbae55bacb0",
   "metadata": {},
   "source": [
    "Relational/ Comparison operator"
   ]
  },
  {
   "cell_type": "code",
   "execution_count": 10,
   "id": "7117c45f-8a92-4ae9-a913-0936971fc699",
   "metadata": {},
   "outputs": [],
   "source": [
    "a=25\n",
    "b=5"
   ]
  },
  {
   "cell_type": "code",
   "execution_count": 15,
   "id": "3a4e9fc1-a8c7-4b14-8f94-069e3929b90b",
   "metadata": {},
   "outputs": [
    {
     "name": "stdout",
     "output_type": "stream",
     "text": [
      "False\n",
      "True\n",
      "False\n",
      "True\n",
      "False\n"
     ]
    }
   ],
   "source": [
    "print(a==b)\n",
    "print(a>b)\n",
    "print(a<b)\n",
    "print(a>=b)\n",
    "print(a<=b)"
   ]
  },
  {
   "cell_type": "code",
   "execution_count": null,
   "id": "ae062cf7-2398-48f4-977e-13e635242b0e",
   "metadata": {},
   "outputs": [],
   "source": [
    "a=10\n",
    "b=15"
   ]
  },
  {
   "cell_type": "code",
   "execution_count": 16,
   "id": "9fb28125-fffe-4ae2-87c4-fdef059f0397",
   "metadata": {},
   "outputs": [
    {
     "name": "stdout",
     "output_type": "stream",
     "text": [
      "False\n",
      "True\n"
     ]
    }
   ],
   "source": [
    "print (a==b)\n",
    "print (a!=b)"
   ]
  },
  {
   "cell_type": "code",
   "execution_count": null,
   "id": "b2dcb8f5-b1d6-44a8-b668-de39a1eac9ed",
   "metadata": {},
   "outputs": [],
   "source": [
    "#Logical Operator\n",
    "AND\n",
    "OR\n",
    "NOT #"
   ]
  },
  {
   "cell_type": "code",
   "execution_count": 24,
   "id": "0b7dc531-2cac-426e-8aa0-ccf1a6eb4557",
   "metadata": {},
   "outputs": [
    {
     "name": "stdout",
     "output_type": "stream",
     "text": [
      "True\n",
      "False\n",
      "True\n",
      "False\n",
      "True\n",
      "False\n",
      "True\n",
      "False\n"
     ]
    },
    {
     "data": {
      "text/plain": [
       "False"
      ]
     },
     "execution_count": 24,
     "metadata": {},
     "output_type": "execute_result"
    }
   ],
   "source": [
    "a=10\n",
    "b=5\n",
    "c=20\n",
    "d=15\n",
    "\n",
    "print(a>b) and (c>d)\n",
    "print(a<b) and (c>d)\n",
    "print(a>b) and (c<d)\n",
    "print(a<b) and (c<d)\n",
    "print(a>b) or (c>d)\n",
    "print(a<b) or (c>d)\n",
    "print(a>b) or (c<d)\n",
    "print(a<b) or (c<d)"
   ]
  },
  {
   "cell_type": "markdown",
   "id": "c7d9ed32-3890-493b-8018-f4502075c000",
   "metadata": {},
   "source": [
    "Assingment Operator\n",
    "+=\n",
    "-=\n",
    "/=\n",
    "*=\n",
    "//=\n",
    "%=\n",
    "**="
   ]
  },
  {
   "cell_type": "code",
   "execution_count": 25,
   "id": "5fe38051-e9e1-4465-a482-747fc0fbab49",
   "metadata": {},
   "outputs": [
    {
     "name": "stdout",
     "output_type": "stream",
     "text": [
      "40\n"
     ]
    }
   ],
   "source": [
    "a=50\n",
    "a-=10\n",
    "print(a)"
   ]
  },
  {
   "cell_type": "code",
   "execution_count": null,
   "id": "5c7e4390-54b1-4d3a-a213-8a2bbc9b2b9b",
   "metadata": {},
   "outputs": [],
   "source": [
    "#Ternary Operator#"
   ]
  },
  {
   "cell_type": "code",
   "execution_count": 28,
   "id": "f8edc3ba-f546-45c2-8469-5e8987395fc5",
   "metadata": {},
   "outputs": [
    {
     "data": {
      "text/plain": [
       "20"
      ]
     },
     "execution_count": 28,
     "metadata": {},
     "output_type": "execute_result"
    }
   ],
   "source": [
    "a = 10 if 10>20  else 20\n",
    "a"
   ]
  },
  {
   "cell_type": "code",
   "execution_count": 32,
   "id": "29b94a1a-7c6c-4108-8ae1-d3493c84eb1f",
   "metadata": {},
   "outputs": [
    {
     "data": {
      "text/plain": [
       "3"
      ]
     },
     "execution_count": 32,
     "metadata": {},
     "output_type": "execute_result"
    }
   ],
   "source": [
    "a=10\n",
    "b=20\n",
    "c=3\n",
    "x=a if a>b>c else b if b<c else c\n",
    "x\n"
   ]
  },
  {
   "cell_type": "code",
   "execution_count": null,
   "id": "d499f4e2-64d4-41aa-bde6-2be1afed2b0d",
   "metadata": {},
   "outputs": [],
   "source": [
    "#Identity Operators \n",
    "    #is\n",
    "    #is not\n",
    "#Membership Operators \n",
    "    #in\n",
    "    #not in"
   ]
  },
  {
   "cell_type": "code",
   "execution_count": 1,
   "id": "c39341bc-e071-48cd-a8cc-9cb3f448171a",
   "metadata": {},
   "outputs": [
    {
     "name": "stdout",
     "output_type": "stream",
     "text": [
      "True\n",
      "True\n"
     ]
    }
   ],
   "source": [
    "a=100\n",
    "b=100\n",
    "print(a is b)\n",
    "c=257\n",
    "d=257\n",
    "print(c is not d)"
   ]
  },
  {
   "cell_type": "code",
   "execution_count": 37,
   "id": "1eda443b-a7f9-43cf-a7ad-08de4de85a51",
   "metadata": {},
   "outputs": [
    {
     "data": {
      "text/plain": [
       "140722769088392"
      ]
     },
     "execution_count": 37,
     "metadata": {},
     "output_type": "execute_result"
    }
   ],
   "source": [
    "id(a)"
   ]
  },
  {
   "cell_type": "code",
   "execution_count": 38,
   "id": "a1dbbe27-2f20-4a0d-925d-88bab5c1b5b6",
   "metadata": {},
   "outputs": [
    {
     "data": {
      "text/plain": [
       "140722769088392"
      ]
     },
     "execution_count": 38,
     "metadata": {},
     "output_type": "execute_result"
    }
   ],
   "source": [
    "id(b)"
   ]
  },
  {
   "cell_type": "code",
   "execution_count": 42,
   "id": "0c13e25c-748f-4bdc-84bb-f0873b9e853f",
   "metadata": {},
   "outputs": [
    {
     "data": {
      "text/plain": [
       "False"
      ]
     },
     "execution_count": 42,
     "metadata": {},
     "output_type": "execute_result"
    }
   ],
   "source": [
    "b=1000\n",
    "c=1000\n",
    "b is c"
   ]
  },
  {
   "cell_type": "code",
   "execution_count": 2,
   "id": "9f0e8de5-f83d-4b03-baf2-9740b98ba312",
   "metadata": {},
   "outputs": [],
   "source": [
    "tuple=(10,20,40,60,100)"
   ]
  },
  {
   "cell_type": "code",
   "execution_count": 4,
   "id": "15b6789a-ae29-4aa8-a906-b7dd3d332741",
   "metadata": {},
   "outputs": [
    {
     "name": "stdout",
     "output_type": "stream",
     "text": [
      "True\n",
      "False\n"
     ]
    }
   ],
   "source": [
    "print(10 in tuple)\n",
    "print(100 not in tuple)"
   ]
  },
  {
   "cell_type": "code",
   "execution_count": null,
   "id": "4443e5a6-5579-4e33-b7ed-04391d02a8cd",
   "metadata": {},
   "outputs": [],
   "source": [
    "#Input Output Statement#"
   ]
  },
  {
   "cell_type": "code",
   "execution_count": 5,
   "id": "d95249fc-cd4b-470a-9cf0-97c55b62adc4",
   "metadata": {},
   "outputs": [
    {
     "name": "stdin",
     "output_type": "stream",
     "text": [
      "Enter your age:  39\n"
     ]
    }
   ],
   "source": [
    "age= int(input('Enter your age: '))"
   ]
  },
  {
   "cell_type": "code",
   "execution_count": 6,
   "id": "8c9231c2-e00e-4a72-b229-92eeb5a0ed2a",
   "metadata": {},
   "outputs": [
    {
     "data": {
      "text/plain": [
       "39"
      ]
     },
     "execution_count": 6,
     "metadata": {},
     "output_type": "execute_result"
    }
   ],
   "source": [
    "age"
   ]
  },
  {
   "cell_type": "code",
   "execution_count": 9,
   "id": "1aa24478-d35d-49ef-9237-ea29582c1c2a",
   "metadata": {},
   "outputs": [
    {
     "name": "stdin",
     "output_type": "stream",
     "text": [
      "Enter your name:  Anas\n"
     ]
    }
   ],
   "source": [
    "Name= input('Enter your name: ')"
   ]
  },
  {
   "cell_type": "code",
   "execution_count": 10,
   "id": "d25dade0-82b6-491d-94e5-de99222d2b26",
   "metadata": {},
   "outputs": [
    {
     "data": {
      "text/plain": [
       "'Anas'"
      ]
     },
     "execution_count": 10,
     "metadata": {},
     "output_type": "execute_result"
    }
   ],
   "source": [
    "Name"
   ]
  },
  {
   "cell_type": "code",
   "execution_count": 30,
   "id": "b9c6a247-4e23-44ac-9f61-9eff52fc5a9a",
   "metadata": {},
   "outputs": [
    {
     "name": "stdout",
     "output_type": "stream",
     "text": [
      "Hi \n",
      "\n",
      "Hello\n"
     ]
    }
   ],
   "source": [
    "print ('Hi', '\\n')\n",
    "print('Hello')"
   ]
  },
  {
   "cell_type": "code",
   "execution_count": 39,
   "id": "9cdab172-6a06-493b-982e-c5d61a9a0b38",
   "metadata": {},
   "outputs": [
    {
     "name": "stdout",
     "output_type": "stream",
     "text": [
      "Hi\n",
      "Hello\n"
     ]
    }
   ],
   "source": [
    "print ('Hi')\n",
    "print('Hello')"
   ]
  },
  {
   "cell_type": "code",
   "execution_count": 37,
   "id": "86266427-ea91-409c-90e5-1687fcd00eb8",
   "metadata": {},
   "outputs": [
    {
     "name": "stdout",
     "output_type": "stream",
     "text": [
      "10$10$10\n"
     ]
    }
   ],
   "source": [
    "a=10\n",
    "b=10\n",
    "c=10\n",
    "print(a,b,c,sep='$')"
   ]
  },
  {
   "cell_type": "markdown",
   "id": "32785785-74a5-4f0c-b67f-cec34c3a4374",
   "metadata": {},
   "source": [
    "#If Else"
   ]
  },
  {
   "cell_type": "code",
   "execution_count": 49,
   "id": "99602dd2-eb71-4524-ae0b-6fbef50151c4",
   "metadata": {},
   "outputs": [
    {
     "name": "stdin",
     "output_type": "stream",
     "text": [
      "Enter your marks 40\n"
     ]
    },
    {
     "name": "stdout",
     "output_type": "stream",
     "text": [
      "You failed the exam\n"
     ]
    }
   ],
   "source": [
    "marks=int(input('Enter your marks'))\n",
    "if marks<=40:\n",
    "    print('You failed the exam')\n",
    "else:\n",
    "    print('You passed the exam')"
   ]
  },
  {
   "cell_type": "code",
   "execution_count": 52,
   "id": "36a05801-f906-48e0-9562-748f2c7551cc",
   "metadata": {},
   "outputs": [
    {
     "name": "stdin",
     "output_type": "stream",
     "text": [
      "Enter your marks:  99\n"
     ]
    },
    {
     "name": "stdout",
     "output_type": "stream",
     "text": [
      "You goy good marks\n"
     ]
    }
   ],
   "source": [
    "marks= int(input('Enter your marks: '))\n",
    "if marks<=40:\n",
    "    print('You failed teh exam')\n",
    "elif marks>40 and marks<=60:\n",
    "    print('You got average marks')\n",
    "else:\n",
    "    print('You goy good marks')"
   ]
  },
  {
   "cell_type": "markdown",
   "id": "102248f4-c246-4d28-92e6-b811a948fef3",
   "metadata": {},
   "source": [
    "# How to calculate Tax Calculator based on Salary#"
   ]
  },
  {
   "cell_type": "code",
   "execution_count": null,
   "id": "29135a5c-dc65-41c3-ab17-2d94012cbeaf",
   "metadata": {},
   "outputs": [],
   "source": [
    "salary =int(input('Enter your salary: '))\n",
    "if salary<2000:\n",
    "    print('The tax you have to pay is: ',salary*0)\n",
    "elif salary<5000 and salary>=2000:\n",
    "    print('The tax you have to pay is: ',salary*.05)\n",
    "elif salary>10000 and salary<=5000:\n",
    "    print('The tax you have to pay is: ',salary*.10)\n",
    "else:\n",
    "    print('The tax you have to pay is: ',salary*.20)"
   ]
  }
 ],
 "metadata": {
  "kernelspec": {
   "display_name": "Python 3 (ipykernel)",
   "language": "python",
   "name": "python3"
  },
  "language_info": {
   "codemirror_mode": {
    "name": "ipython",
    "version": 3
   },
   "file_extension": ".py",
   "mimetype": "text/x-python",
   "name": "python",
   "nbconvert_exporter": "python",
   "pygments_lexer": "ipython3",
   "version": "3.11.7"
  }
 },
 "nbformat": 4,
 "nbformat_minor": 5
}
