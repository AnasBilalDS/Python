{
 "cells": [
  {
   "cell_type": "markdown",
   "id": "57a8a266-7fad-4104-8841-0aef96b50204",
   "metadata": {},
   "source": [
    "While Loop"
   ]
  },
  {
   "cell_type": "code",
   "execution_count": null,
   "id": "bfcbe596-ff9e-4591-a880-6ab046af5189",
   "metadata": {},
   "outputs": [],
   "source": [
    "# Syntax of While Loop# Loops are for makings things automated#\n",
    "while condition:\n",
    "    getouput"
   ]
  },
  {
   "cell_type": "code",
   "execution_count": null,
   "id": "6a4f4aec-3c14-4e68-a90c-e84aaa45d044",
   "metadata": {},
   "outputs": [],
   "source": [
    "# For example if I want to run discount coupon code scheme for my first 5 students who enrol for Python#"
   ]
  },
  {
   "cell_type": "code",
   "execution_count": null,
   "id": "1595d483-d7aa-45cd-9cd6-9f511daacfe9",
   "metadata": {},
   "outputs": [],
   "source": [
    "coupons =5\n",
    "utilizedcoupons=0\n",
    "\n",
    "while utilizedcoupons<coupons:\n",
    "    print('The total coupons left are: ',coupons-utilizedcoupons)\n",
    "    utilizedcoupons=utilizedcoupons+1\n",
    "print('No coupons left: ')"
   ]
  },
  {
   "cell_type": "code",
   "execution_count": null,
   "id": "4692772f-f459-47c3-a199-47c59137052d",
   "metadata": {},
   "outputs": [],
   "source": [
    "# What is teh differnce between for loop and while loop #\n",
    "#in For loop we know how many time loop will run wheras in while loop will run condition is True and we not aware how many times loop will run#"
   ]
  },
  {
   "cell_type": "code",
   "execution_count": null,
   "id": "70fa0d3f-4c8e-4a67-843a-0f0a138ebcd7",
   "metadata": {},
   "outputs": [],
   "source": [
    "# Write a python code to write factorial of a number#"
   ]
  },
  {
   "cell_type": "code",
   "execution_count": 4,
   "id": "201d9992-229d-430f-bafb-0c74d2d653fa",
   "metadata": {},
   "outputs": [
    {
     "name": "stdin",
     "output_type": "stream",
     "text": [
      "Enter the number:  24\n"
     ]
    },
    {
     "name": "stdout",
     "output_type": "stream",
     "text": [
      "620448401733239439360000\n"
     ]
    }
   ],
   "source": [
    "number=int(input('Enter the number: '))\n",
    "if number<0:\n",
    "    print('There is no factorial of a negative number: ')\n",
    "else:\n",
    "    result= 1\n",
    "while number>0:\n",
    "    result=result*number\n",
    "    number=number-1\n",
    "print(result)"
   ]
  },
  {
   "cell_type": "code",
   "execution_count": 1,
   "id": "f7c52934-6f35-47d6-b656-f48b25925148",
   "metadata": {
    "scrolled": true
   },
   "outputs": [
    {
     "name": "stdout",
     "output_type": "stream",
     "text": [
      "Account created Succesfully:  3\n",
      "[1, 8, 7, 9, 3]\n"
     ]
    }
   ],
   "source": [
    "#  For Example we have list of account number and we want to open new account number but that account number should not be in the list#"
   ]
  },
  {
   "cell_type": "code",
   "execution_count": 3,
   "id": "c42773a8-9ad2-49f8-b404-7efecc787b55",
   "metadata": {
    "scrolled": true
   },
   "outputs": [
    {
     "name": "stdout",
     "output_type": "stream",
     "text": [
      "Account created Succesfully:  4\n",
      "[1, 8, 7, 9, 4]\n"
     ]
    }
   ],
   "source": [
    "import random\n",
    "existing_account_number=[1,8,7,9]\n",
    "new_account_number=random.randint(1,9)\n",
    "\n",
    "while new_account_number in existing_account_number:\n",
    "    new_account_number=random.randint(1,9)    \n",
    "existing_account_number.append(new_account_number)\n",
    "print(\"Account created Succesfully: \",new_account_number)\n",
    "print (existing_account_number)"
   ]
  },
  {
   "cell_type": "code",
   "execution_count": null,
   "id": "c55382dd-7863-46e0-9128-c7fcfeba26d7",
   "metadata": {},
   "outputs": [],
   "source": [
    "# What is teh differnce between for loop and while loop #\n",
    "#in For loop we know how many time loop will run wheras in while loop will run condition is True and we not aware how many times loop will run#"
   ]
  },
  {
   "cell_type": "code",
   "execution_count": null,
   "id": "48eafc63-d167-4944-bf19-f5f49c73d960",
   "metadata": {},
   "outputs": [],
   "source": [
    "# Write a python code to write factorial of a number#"
   ]
  },
  {
   "cell_type": "code",
   "execution_count": 5,
   "id": "b16a5fbe-d508-4a79-b5e3-483fd384f8d9",
   "metadata": {},
   "outputs": [
    {
     "name": "stdin",
     "output_type": "stream",
     "text": [
      "Enter the number:  6\n"
     ]
    },
    {
     "name": "stdout",
     "output_type": "stream",
     "text": [
      "720\n"
     ]
    }
   ],
   "source": [
    "number=int(input('Enter the number: '))\n",
    "if number<0:\n",
    "    print('There is no factorial of a negative number: ')\n",
    "else:\n",
    "    result= 1\n",
    "while number>0:\n",
    "    result=result*number\n",
    "    number=number-1\n",
    "print(result)"
   ]
  },
  {
   "cell_type": "code",
   "execution_count": null,
   "id": "443ed602-789d-461a-a790-4c4f8c559707",
   "metadata": {},
   "outputs": [],
   "source": [
    "# How to calculate compound Interest#"
   ]
  },
  {
   "cell_type": "code",
   "execution_count": null,
   "id": "ab7c80a2-9ccd-4782-a39c-2f965634c45d",
   "metadata": {},
   "outputs": [],
   "source": [
    "account_balance =500000\n",
    "interest_rate=0.05\n",
    "max_iter=12\n",
    "iteration=1\n",
    "\n",
    "while iteration<=max_iter:\n",
    "    interest=account_balance*interest_rate\n",
    "    account_balance+=interest\n",
    "    iteration+=1\n",
    "\n",
    "print ('Final Account balance: ',account_balance)"
   ]
  }
 ],
 "metadata": {
  "kernelspec": {
   "display_name": "Python 3 (ipykernel)",
   "language": "python",
   "name": "python3"
  },
  "language_info": {
   "codemirror_mode": {
    "name": "ipython",
    "version": 3
   },
   "file_extension": ".py",
   "mimetype": "text/x-python",
   "name": "python",
   "nbconvert_exporter": "python",
   "pygments_lexer": "ipython3",
   "version": "3.11.7"
  }
 },
 "nbformat": 4,
 "nbformat_minor": 5
}
