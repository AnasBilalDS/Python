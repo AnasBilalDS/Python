{
 "cells": [
  {
   "cell_type": "code",
   "execution_count": 4,
   "id": "0063001b-1eeb-4927-a341-9eacad2017f2",
   "metadata": {},
   "outputs": [],
   "source": [
    "a='Anas'"
   ]
  },
  {
   "cell_type": "code",
   "execution_count": 5,
   "id": "1b4bdddc-b128-47e2-b269-b8d664460a22",
   "metadata": {},
   "outputs": [
    {
     "data": {
      "text/plain": [
       "'Anas'"
      ]
     },
     "execution_count": 5,
     "metadata": {},
     "output_type": "execute_result"
    }
   ],
   "source": [
    "a"
   ]
  },
  {
   "cell_type": "code",
   "execution_count": 6,
   "id": "c87d4dbb-d08a-4752-927e-7756f0fd6e51",
   "metadata": {},
   "outputs": [
    {
     "data": {
      "text/plain": [
       "str"
      ]
     },
     "execution_count": 6,
     "metadata": {},
     "output_type": "execute_result"
    }
   ],
   "source": [
    "type(a)"
   ]
  },
  {
   "cell_type": "code",
   "execution_count": 8,
   "id": "ee6905f3-dd77-4427-be87-6c0a310579ae",
   "metadata": {},
   "outputs": [],
   "source": [
    "b=20"
   ]
  },
  {
   "cell_type": "code",
   "execution_count": 10,
   "id": "48bdf09f-ccb9-41a5-a687-aea1779939c3",
   "metadata": {},
   "outputs": [
    {
     "data": {
      "text/plain": [
       "int"
      ]
     },
     "execution_count": 10,
     "metadata": {},
     "output_type": "execute_result"
    }
   ],
   "source": [
    "type(b)"
   ]
  },
  {
   "cell_type": "code",
   "execution_count": 12,
   "id": "7dc38ba1-dbe4-4940-a9e8-fe7c2971e51b",
   "metadata": {},
   "outputs": [],
   "source": [
    "c=20.5"
   ]
  },
  {
   "cell_type": "code",
   "execution_count": 13,
   "id": "698f2bdd-3a8b-4d23-9c9f-4e8234e48ce7",
   "metadata": {},
   "outputs": [
    {
     "data": {
      "text/plain": [
       "float"
      ]
     },
     "execution_count": 13,
     "metadata": {},
     "output_type": "execute_result"
    }
   ],
   "source": [
    "type(c)"
   ]
  },
  {
   "cell_type": "code",
   "execution_count": 14,
   "id": "c31592c4-b9dd-4587-8c19-9bb5e13b83fe",
   "metadata": {},
   "outputs": [],
   "source": [
    "d=c<b"
   ]
  },
  {
   "cell_type": "code",
   "execution_count": 20,
   "id": "0633ba8d-2217-44e3-affe-95c9d6e3d696",
   "metadata": {},
   "outputs": [
    {
     "data": {
      "text/plain": [
       "False"
      ]
     },
     "execution_count": 20,
     "metadata": {},
     "output_type": "execute_result"
    }
   ],
   "source": [
    "d"
   ]
  },
  {
   "cell_type": "code",
   "execution_count": 22,
   "id": "89d47ee8-b92e-44af-9932-ec81f204a618",
   "metadata": {},
   "outputs": [
    {
     "name": "stdout",
     "output_type": "stream",
     "text": [
      "20.5\n"
     ]
    }
   ],
   "source": [
    "print(c)"
   ]
  },
  {
   "cell_type": "code",
   "execution_count": 28,
   "id": "1157a523-1325-49c0-b69d-caa40fb37294",
   "metadata": {},
   "outputs": [
    {
     "name": "stdout",
     "output_type": "stream",
     "text": [
      "6 6 1 8 7 0\n",
      "5 4 3 6 4 1\n",
      "5 4 2 1 7 1\n",
      "8 1 4 5 7 2\n",
      "9 2 3 3 1 2\n",
      "3 6 8 9 0 4\n",
      "3 5 5 5 9 0\n",
      "1 5 2 2 0 6\n",
      "0 9 1 8 1 5\n"
     ]
    }
   ],
   "source": [
    "#How to genrate 6 digit pin /OTP#\n",
    "from random import *\n",
    "for i in range(0,10):\n",
    "    print(randint(0,9),randint(0,9),randint(0,9),randint(0,9),randint(0,9),randint(0,9))"
   ]
  },
  {
   "cell_type": "code",
   "execution_count": 30,
   "id": "5486064e-b637-4c1e-a4a4-5fc70c612b04",
   "metadata": {},
   "outputs": [
    {
     "data": {
      "text/plain": [
       "['False',\n",
       " 'None',\n",
       " 'True',\n",
       " 'and',\n",
       " 'as',\n",
       " 'assert',\n",
       " 'async',\n",
       " 'await',\n",
       " 'break',\n",
       " 'class',\n",
       " 'continue',\n",
       " 'def',\n",
       " 'del',\n",
       " 'elif',\n",
       " 'else',\n",
       " 'except',\n",
       " 'finally',\n",
       " 'for',\n",
       " 'from',\n",
       " 'global',\n",
       " 'if',\n",
       " 'import',\n",
       " 'in',\n",
       " 'is',\n",
       " 'lambda',\n",
       " 'nonlocal',\n",
       " 'not',\n",
       " 'or',\n",
       " 'pass',\n",
       " 'raise',\n",
       " 'return',\n",
       " 'try',\n",
       " 'while',\n",
       " 'with',\n",
       " 'yield']"
      ]
     },
     "execution_count": 30,
     "metadata": {},
     "output_type": "execute_result"
    }
   ],
   "source": [
    "import keyword\n",
    "keyword.kwlist"
   ]
  },
  {
   "cell_type": "code",
   "execution_count": 31,
   "id": "1fd541fb-42e1-4cc4-b0a1-d9e8c03fdd52",
   "metadata": {},
   "outputs": [],
   "source": [
    "company='Go Fly TTC'"
   ]
  },
  {
   "cell_type": "code",
   "execution_count": 32,
   "id": "2301a7bc-2743-49d3-99d0-c72cf9f42f1c",
   "metadata": {},
   "outputs": [
    {
     "data": {
      "text/plain": [
       "'Go Fly TTC'"
      ]
     },
     "execution_count": 32,
     "metadata": {},
     "output_type": "execute_result"
    }
   ],
   "source": [
    "company"
   ]
  },
  {
   "cell_type": "code",
   "execution_count": 33,
   "id": "9a045a8b-0bbb-4a02-9399-6795eb49b638",
   "metadata": {},
   "outputs": [
    {
     "data": {
      "text/plain": [
       "10"
      ]
     },
     "execution_count": 33,
     "metadata": {},
     "output_type": "execute_result"
    }
   ],
   "source": [
    "len(company)"
   ]
  },
  {
   "cell_type": "code",
   "execution_count": 35,
   "id": "5f1c7d81-767f-4acf-a58d-3369a37d012e",
   "metadata": {},
   "outputs": [
    {
     "data": {
      "text/plain": [
       "'F'"
      ]
     },
     "execution_count": 35,
     "metadata": {},
     "output_type": "execute_result"
    }
   ],
   "source": [
    "company[3]"
   ]
  },
  {
   "cell_type": "code",
   "execution_count": 36,
   "id": "4f04b11e-64db-4ce4-8a1b-c2695b9d24ad",
   "metadata": {},
   "outputs": [
    {
     "data": {
      "text/plain": [
       "'ly TTC'"
      ]
     },
     "execution_count": 36,
     "metadata": {},
     "output_type": "execute_result"
    }
   ],
   "source": [
    "company[4:]\n"
   ]
  },
  {
   "cell_type": "code",
   "execution_count": 41,
   "id": "2913c572-696c-47ee-b851-450eaecbe461",
   "metadata": {},
   "outputs": [
    {
     "data": {
      "text/plain": [
       "'ly TTC'"
      ]
     },
     "execution_count": 41,
     "metadata": {},
     "output_type": "execute_result"
    }
   ],
   "source": [
    "company[4:11]"
   ]
  },
  {
   "cell_type": "code",
   "execution_count": 42,
   "id": "ae019572-840c-45c9-a757-3506bb88a6ba",
   "metadata": {},
   "outputs": [
    {
     "data": {
      "text/plain": [
       "'lF'"
      ]
     },
     "execution_count": 42,
     "metadata": {},
     "output_type": "execute_result"
    }
   ],
   "source": [
    "#For going reverse direction#\n",
    "company[4:2:-1]"
   ]
  },
  {
   "cell_type": "code",
   "execution_count": null,
   "id": "46168f46-500d-4995-b16e-9411d5a16b68",
   "metadata": {},
   "outputs": [],
   "source": []
  }
 ],
 "metadata": {
  "kernelspec": {
   "display_name": "Python 3 (ipykernel)",
   "language": "python",
   "name": "python3"
  },
  "language_info": {
   "codemirror_mode": {
    "name": "ipython",
    "version": 3
   },
   "file_extension": ".py",
   "mimetype": "text/x-python",
   "name": "python",
   "nbconvert_exporter": "python",
   "pygments_lexer": "ipython3",
   "version": "3.11.7"
  }
 },
 "nbformat": 4,
 "nbformat_minor": 5
}
